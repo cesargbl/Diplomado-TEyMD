{
 "cells": [
  {
   "cell_type": "markdown",
   "id": "9006017e-5436-40da-9887-d678d3d1423f",
   "metadata": {},
   "source": [
    "# Ejercicio 1\n",
    "\n",
    "Equipo 5: \n",
    "* Omar Misael Valero Silva\n",
    "* Karla Anahí Sánchez Morales\n",
    "* Karol Jacqueline Nolasco Reyes\n",
    "* David Mendieta Lopez\n",
    "* César Gabriel López López\n",
    "\n",
    "Para un experimento aleatoriom se tiene que $\\Omega$ es el espacio muestral.\n",
    "\n",
    "Sea $A$ un evento, entonces\n",
    "\n",
    "$$ \\mathbb{P}(A) = \\frac{\\#A}{\\#\\Omega} $$\n",
    "\n",
    "**EJEMPLO:** Sea el experimento de lanzar una moneda 3 veces, de manera independiente (es decir, el $i$-ésimo lanzamiento no me afecta al $i+1$ lanzamiento). El espacio muestral de este experimento es:\n",
    "\n",
    "$$ \\Omega = \\{A,S\\} \\times \\{A,S\\} \\times \\{A,S\\} = \\{A,S\\}^3 $$\n",
    "\n",
    "y tenemos que $\\#\\Omega = 2^3$.\n",
    "\n",
    "Sean los eventos:\n",
    "* $A$: todos los resultados son águila\n",
    "* $S$: todos los resultados son soles\n",
    "* $E$: por lo menos un resultado es sol\n",
    "\n",
    "Calcular las probabilidades de estos eventos:\n",
    "\n",
    "**Solución** Vamos a descomponer mi conjunto $A$ de la siguiente manera:\n",
    "$$A = A_1 \\cap A_2 \\cap A_3 $$\n",
    "donde $A_1$: caé águila en el $i$-ésimo resultado."
   ]
  },
  {
   "cell_type": "code",
   "execution_count": null,
   "id": "48a147b1-0d9c-4577-9ee4-6363ddd4ca10",
   "metadata": {},
   "outputs": [
    {
     "data": {
      "text/plain": [
       "{('A', 'A', 'A'),\n",
       " ('A', 'A', 'S'),\n",
       " ('A', 'S', 'A'),\n",
       " ('A', 'S', 'S'),\n",
       " ('S', 'A', 'A'),\n",
       " ('S', 'A', 'S'),\n",
       " ('S', 'S', 'A'),\n",
       " ('S', 'S', 'S')}"
      ]
     },
     "execution_count": 2,
     "metadata": {},
     "output_type": "execute_result"
    }
   ],
   "source": [
    "# Vamos a crear el espacio muestral\n",
    "import itertools #importamos el modulo\n",
    "from itertools import product\n",
    "\n",
    "Omega = set(product({\"A\",\"S\"},repeat = 3))\n",
    "Omega"
   ]
  },
  {
   "cell_type": "code",
   "execution_count": null,
   "id": "ee46c430-9020-4014-bd48-9707243d0c3f",
   "metadata": {},
   "outputs": [
    {
     "data": {
      "text/plain": [
       "8"
      ]
     },
     "execution_count": 3,
     "metadata": {},
     "output_type": "execute_result"
    }
   ],
   "source": [
    "len(Omega) #cardinalidad de Omega"
   ]
  },
  {
   "cell_type": "code",
   "execution_count": null,
   "id": "edf5e838-ab76-469b-b0f3-9fd3b5e0925b",
   "metadata": {},
   "outputs": [
    {
     "data": {
      "text/plain": [
       "{('A', 'A', 'A'), ('A', 'A', 'S'), ('A', 'S', 'A'), ('A', 'S', 'S')}"
      ]
     },
     "execution_count": 12,
     "metadata": {},
     "output_type": "execute_result"
    }
   ],
   "source": [
    "# Vamos a crear el evento A_1\n",
    "A_1 = {om for om in Omega if om[0] == \"A\"} # la primera coordenada es águila\n",
    "A_1"
   ]
  },
  {
   "cell_type": "code",
   "execution_count": null,
   "id": "c71ab39c-e261-4ec9-8655-404b873e1c31",
   "metadata": {},
   "outputs": [
    {
     "data": {
      "text/plain": [
       "{('A', 'A', 'A'), ('A', 'A', 'S'), ('S', 'A', 'A'), ('S', 'A', 'S')}"
      ]
     },
     "execution_count": 10,
     "metadata": {},
     "output_type": "execute_result"
    }
   ],
   "source": [
    "# Vamos a crear el evento A_2\n",
    "A_2 = {om for om in Omega if om[1] == \"A\"} # la segunda coordenada es águila\n",
    "A_2"
   ]
  },
  {
   "cell_type": "code",
   "execution_count": null,
   "id": "507c3372-1663-420e-8d8d-2009ed2650bb",
   "metadata": {},
   "outputs": [
    {
     "data": {
      "text/plain": [
       "{('A', 'A', 'A'), ('A', 'S', 'A'), ('S', 'A', 'A'), ('S', 'S', 'A')}"
      ]
     },
     "execution_count": 8,
     "metadata": {},
     "output_type": "execute_result"
    }
   ],
   "source": [
    "# Vamos a crear el evento A_3\n",
    "A_3 = {om for om in Omega if om[2] == \"A\"} # la tercera coordenada es águila\n",
    "A_3"
   ]
  },
  {
   "cell_type": "code",
   "execution_count": null,
   "id": "590750a8-4d53-47f1-bb0d-24be0b47742e",
   "metadata": {},
   "outputs": [
    {
     "data": {
      "text/plain": [
       "{('A', 'A', 'A')}"
      ]
     },
     "execution_count": 13,
     "metadata": {},
     "output_type": "execute_result"
    }
   ],
   "source": [
    "# Vamos a crear el evento A\n",
    "A = A_1.intersection(A_2.intersection(A_3))\n",
    "A"
   ]
  },
  {
   "cell_type": "code",
   "execution_count": null,
   "id": "58404e7f-9f82-4ed5-b9c3-3a11bf83fbbc",
   "metadata": {},
   "outputs": [
    {
     "data": {
      "text/plain": [
       "1"
      ]
     },
     "execution_count": 14,
     "metadata": {},
     "output_type": "execute_result"
    }
   ],
   "source": [
    "len(A)"
   ]
  },
  {
   "cell_type": "code",
   "execution_count": null,
   "id": "a77de0c1-aad6-4aec-bea5-39f547717812",
   "metadata": {},
   "outputs": [
    {
     "data": {
      "text/plain": [
       "0.125"
      ]
     },
     "execution_count": 15,
     "metadata": {},
     "output_type": "execute_result"
    }
   ],
   "source": [
    "# Vamos a calcular la probabilidad de A\n",
    "P_A = len(A) / len(Omega)\n",
    "P_A"
   ]
  },
  {
   "cell_type": "markdown",
   "id": "af4dcd99-7a58-49d2-9bf7-9fb288fe8f46",
   "metadata": {},
   "source": [
    "Expresar resultado en fracción:"
   ]
  },
  {
   "cell_type": "code",
   "execution_count": null,
   "id": "f2a5ea4b-31a5-41c8-a449-b821c74986ad",
   "metadata": {},
   "outputs": [],
   "source": [
    "from fractions import Fraction\n",
    "\n",
    "def p(E, Omega):\n",
    "    p = Fraction(len(E), len(Omega))\n",
    "    return p"
   ]
  },
  {
   "cell_type": "code",
   "execution_count": null,
   "id": "2bd0aeaa-6893-4c04-9c2a-9dc892710d9a",
   "metadata": {},
   "outputs": [
    {
     "data": {
      "text/plain": [
       "Fraction(1, 8)"
      ]
     },
     "execution_count": 17,
     "metadata": {},
     "output_type": "execute_result"
    }
   ],
   "source": [
    "prob = p(A, Omega)\n",
    "prob"
   ]
  },
  {
   "cell_type": "markdown",
   "id": "6c75d53d",
   "metadata": {},
   "source": [
    "Ahora calculemos el evento $S$: Todos los resultados son soles"
   ]
  },
  {
   "cell_type": "code",
   "execution_count": null,
   "id": "71ca4bb9-1d36-4fec-8403-e6e206de46be",
   "metadata": {},
   "outputs": [
    {
     "data": {
      "text/plain": [
       "{('S', 'A', 'A'), ('S', 'A', 'S'), ('S', 'S', 'A'), ('S', 'S', 'S')}"
      ]
     },
     "execution_count": 19,
     "metadata": {},
     "output_type": "execute_result"
    }
   ],
   "source": [
    "# Vamos a crear el evento S_1\n",
    "S_1 = {om for om in Omega if om[0] == \"S\"} # la primera coordenada es sol\n",
    "S_1"
   ]
  },
  {
   "cell_type": "code",
   "execution_count": null,
   "id": "ac83adc6-6fe4-416a-ac37-2290942ea7ee",
   "metadata": {
    "jupyter": {
     "source_hidden": true
    }
   },
   "outputs": [
    {
     "data": {
      "text/plain": [
       "{('A', 'S', 'A'), ('A', 'S', 'S'), ('S', 'S', 'A'), ('S', 'S', 'S')}"
      ]
     },
     "execution_count": 20,
     "metadata": {},
     "output_type": "execute_result"
    }
   ],
   "source": [
    "# Vamos a crear el evento S_2\n",
    "S_2 = {om for om in Omega if om[1] == \"S\"} # la segunda coordenada es sol\n",
    "S_2"
   ]
  },
  {
   "cell_type": "code",
   "execution_count": null,
   "id": "ca72b9f8-fd74-4f96-927a-679e4bf2e86a",
   "metadata": {},
   "outputs": [
    {
     "data": {
      "text/plain": [
       "{('A', 'A', 'S'), ('A', 'S', 'S'), ('S', 'A', 'S'), ('S', 'S', 'S')}"
      ]
     },
     "execution_count": 21,
     "metadata": {},
     "output_type": "execute_result"
    }
   ],
   "source": [
    "# Vamos a crear el evento S_3\n",
    "S_3 = {om for om in Omega if om[2] == \"S\"} # la tercera coordenada es sol\n",
    "S_3"
   ]
  },
  {
   "cell_type": "code",
   "execution_count": null,
   "id": "46f633ef-7b2b-40ac-a332-9e9ed71109f2",
   "metadata": {},
   "outputs": [
    {
     "data": {
      "text/plain": [
       "{('S', 'S', 'S')}"
      ]
     },
     "execution_count": 22,
     "metadata": {},
     "output_type": "execute_result"
    }
   ],
   "source": [
    "# Vamos a crear el evento S\n",
    "S = S_1.intersection(S_2.intersection(S_3))\n",
    "S"
   ]
  },
  {
   "cell_type": "code",
   "execution_count": null,
   "id": "d54f7e3f-4088-4d6d-9893-006714e0e61a",
   "metadata": {},
   "outputs": [
    {
     "data": {
      "text/plain": [
       "1"
      ]
     },
     "execution_count": 23,
     "metadata": {},
     "output_type": "execute_result"
    }
   ],
   "source": [
    "len(S)"
   ]
  },
  {
   "cell_type": "code",
   "execution_count": null,
   "id": "1d34eb0a-a6d5-451d-a699-aa7c621799c3",
   "metadata": {},
   "outputs": [
    {
     "data": {
      "text/plain": [
       "0.125"
      ]
     },
     "execution_count": 24,
     "metadata": {},
     "output_type": "execute_result"
    }
   ],
   "source": [
    "# Vamos a calcular la probabilidad de S\n",
    "P_S = len(S) / len(Omega)\n",
    "P_S"
   ]
  },
  {
   "cell_type": "markdown",
   "id": "fb1b9f88",
   "metadata": {},
   "source": [
    "Finalmente calculemos el evento $E$: Por lo menos un resultado es sol"
   ]
  },
  {
   "cell_type": "code",
   "execution_count": null,
   "id": "17cbc9c4-0f45-4890-a346-38c4aeeb811d",
   "metadata": {},
   "outputs": [
    {
     "data": {
      "text/plain": [
       "{('A', 'A', 'S'),\n",
       " ('A', 'S', 'A'),\n",
       " ('A', 'S', 'S'),\n",
       " ('S', 'A', 'A'),\n",
       " ('S', 'A', 'S'),\n",
       " ('S', 'S', 'A'),\n",
       " ('S', 'S', 'S')}"
      ]
     },
     "execution_count": 28,
     "metadata": {},
     "output_type": "execute_result"
    }
   ],
   "source": [
    "E_1 = {om for om in Omega if om[0] == \"S\"} #La primer cooordenada es sol\n",
    "E_2 = {om for om in Omega if om[1] == \"S\"} #La segunda cooordenada es sol\n",
    "E_3 = {om for om in Omega if om[2] == \"S\"} #La tercera cooordenada es sol\n",
    "\n",
    "E = E_1.union(E_2.union(E_3)) #Al menos un resultado es sol\n",
    "E"
   ]
  },
  {
   "cell_type": "code",
   "execution_count": null,
   "id": "f557008c-88d7-4f05-8994-a24bd91a30e4",
   "metadata": {},
   "outputs": [
    {
     "data": {
      "text/plain": [
       "7"
      ]
     },
     "execution_count": 29,
     "metadata": {},
     "output_type": "execute_result"
    }
   ],
   "source": [
    "len(E)"
   ]
  },
  {
   "cell_type": "code",
   "execution_count": null,
   "id": "b0834197-d6c1-45ff-9e1e-aa2aebb326f3",
   "metadata": {},
   "outputs": [
    {
     "data": {
      "text/plain": [
       "0.875"
      ]
     },
     "execution_count": 32,
     "metadata": {},
     "output_type": "execute_result"
    }
   ],
   "source": [
    "# Vamos a calcular la probabilidad de E\n",
    "P_E = len(E) / len(Omega)\n",
    "P_E"
   ]
  }
 ],
 "metadata": {
  "kernelspec": {
   "display_name": "amv",
   "language": "python",
   "name": "amv"
  },
  "language_info": {
   "codemirror_mode": {
    "name": "ipython",
    "version": 3
   },
   "file_extension": ".py",
   "mimetype": "text/x-python",
   "name": "python",
   "nbconvert_exporter": "python",
   "pygments_lexer": "ipython3",
   "version": "3.10.12"
  }
 },
 "nbformat": 4,
 "nbformat_minor": 5
}
