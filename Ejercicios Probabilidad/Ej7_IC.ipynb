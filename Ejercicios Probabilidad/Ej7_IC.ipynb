{
  "cells": [
    {
      "cell_type": "markdown",
      "source": [
        "# <h1><center> **Facultad de Estudios Superiores Acatlán.** </center></h1>\n",
        "# <h3><center> **Metodos Estadisticos y Mineria de Datos** </center></h3>\n",
        "# <h4><center> **Modulo II** </center></h4>\n",
        "\n",
        "---\n",
        "\n",
        "# <center> *Intervalos de Confianza (ejercicio)* </center>\n",
        "\n",
        "---\n",
        "\n",
        "**Integrantes del Equipo 5:**\n",
        "\n",
        "  *   *Omar Misael Valero Silva*\n",
        "  *   *Karla Anahí Sánchez Morales*\n",
        "  *   *Karol Jacqueline Nolasco Reyes*\n",
        "  *   *David Mendieta Lopez*\n",
        "  *   *César Gabriel López López*"
      ],
      "metadata": {
        "id": "8Jo2RwdUu4t3"
      }
    },
    {
      "cell_type": "markdown",
      "metadata": {
        "id": "lU2x5qpOHS_Y"
      },
      "source": [
        "## $ \\color{red}{\\text{Ejercicio 1:}} $\n"
      ]
    },
    {
      "cell_type": "markdown",
      "source": [
        "En una encuesta de realizada en la Universidad; 225 estudiantes son seleccionados al azar de los que toman cálculo y se les pregunta si cálculo es su materia favorita. 100 estudiantes responden que el cálculo es su materia favorita.\n",
        "\n",
        "Proporcione un intervalo de confianza del 95 %  para la proporción de todos los estudiantes que toman cálculo y que la consideran su materia favorita.  "
      ],
      "metadata": {
        "id": "zuHCRGKjQm4K"
      }
    },
    {
      "cell_type": "markdown",
      "source": [
        "**Solución:**"
      ],
      "metadata": {
        "id": "CDI-oaXgCO_2"
      }
    },
    {
      "cell_type": "markdown",
      "source": [
        "Para este calculo de intervalo de confianza **I.C.** sera realizada por medio de **propocion muestral**. Para ello vamos ver lo que nos indica el **I.C.**\n",
        "\n",
        "$$ I.C. = [ ~ \\hat{p} - Z_{\\frac{\\alpha}{2}} * \\sqrt{\\frac{\\hat{p} (1 - \\hat{p})}{n}}, \\hat{p} + Z_{\\frac{\\alpha}{2}} * \\sqrt{\\frac{\\hat{p} (1 - \\hat{p})}{n}} ~ ] $$\n",
        "\n",
        "siempre y cuando se cumpla los siguientes condiciones:\n",
        "\n",
        "*   $n\\hat{p} > 5$\n",
        "*   $n(\\hat{p} - 1) > 5$\n",
        "\n",
        "*(Aunque esto se cumple para nuestra problematica)*"
      ],
      "metadata": {
        "id": "cgCeqF-kWUEF"
      }
    },
    {
      "cell_type": "markdown",
      "source": [
        "Ya teniendo este resultado vamos contruir nuestro intervalo de confianza...\n",
        "\n",
        "Sea los siguiente terminos:\n",
        "\n",
        "- $n = 225$ *(Tamaño de la muestra)*\n",
        "- $\\hat{p} = 100 / 225$ *(Proporcion estimada)*\n",
        "- $1 - \\alpha = .95$  *(Nive de confianza)*\n",
        "\n",
        "Con esto podemos ver como que nuestro $ SE =  \\sqrt{\\frac{\\hat{p} (1 - \\hat{p})}{n}} $"
      ],
      "metadata": {
        "id": "GnMhSMmCE7TB"
      }
    },
    {
      "cell_type": "code",
      "source": [
        "n = 225\n",
        "p_hat = 100 / n\n",
        "alpha = 0.95\n",
        "SE = round((p_hat * (1 - p_hat) / n) ** 0.5, 6)\n",
        "\n",
        "print(SE)"
      ],
      "metadata": {
        "colab": {
          "base_uri": "https://localhost:8080/"
        },
        "id": "t20lBfLnH7FU",
        "outputId": "216d3299-81e5-4b51-8a7e-f73d45d362b1"
      },
      "execution_count": null,
      "outputs": [
        {
          "output_type": "stream",
          "name": "stdout",
          "text": [
            "0.033127\n"
          ]
        }
      ]
    },
    {
      "cell_type": "markdown",
      "source": [
        "Para el caso del $Z_{\\frac{\\alpha}{2}}$ *(el valor critico de N $\\sim$ (0,1) )* sera del $1.96$. Pasemos a los limites del $I.C.$"
      ],
      "metadata": {
        "id": "0MlXIxDMItvk"
      }
    },
    {
      "cell_type": "code",
      "source": [
        "limite_inferior = 100 - 1.96 * SE\n",
        "limite_superior = 100 + 1.96 * SE"
      ],
      "metadata": {
        "id": "5WKTAzfNJg9p"
      },
      "execution_count": null,
      "outputs": []
    },
    {
      "cell_type": "markdown",
      "source": [
        "Podemos decir que $ \\hat{p} $ de los alumnos que tiene una preferencia a la materia de calculo estaria osilando de la siguiente forma..."
      ],
      "metadata": {
        "id": "4dBcRxztCFm4"
      }
    },
    {
      "cell_type": "code",
      "source": [
        "print(\"El intervalo de confianza para \\p sera de: (\", limite_inferior, \",\", limite_superior, \")\" )"
      ],
      "metadata": {
        "colab": {
          "base_uri": "https://localhost:8080/"
        },
        "id": "nSfVriKOCahC",
        "outputId": "1a5f6129-0db4-491e-e938-d5faa7127e9f"
      },
      "execution_count": null,
      "outputs": [
        {
          "output_type": "stream",
          "name": "stdout",
          "text": [
            "El intervalo de confianza para \\p sera de: ( 99.93507108 , 100.06492892 )\n"
          ]
        }
      ]
    },
    {
      "cell_type": "markdown",
      "source": [
        "## $ \\color{red}{\\text{Ejercicio 2:}} $"
      ],
      "metadata": {
        "id": "zfkaX_WvQyWp"
      }
    },
    {
      "cell_type": "markdown",
      "source": [
        "Considere los siguentes datos:\n",
        "\n",
        "$$ 1.2,\\ 2.1,\\ 2.3,\\ 1.9,\\ 3.0,\\ 1.5,\\ 2.8,\\ 2.4,\\ 1.7,\\ 2.6,\\ 2.0,\\ 1.8,\\ 3.1,\\ 2.2,\\ 2.5 $$\n",
        "\n",
        "Se toman a partir de una distribución normal $N(\\mu,\\sigma^2)$ con $\\mu$ desconocida.\n",
        "\n",
        "**a)** Encuentra un intervalo de confianza al nivel de $90\\%$ para $\\mu$, dado que $\\sigma =2$.\n",
        "\n",
        "**b)** Encuentra un intervalo de confianza al nivel de $90\\%$ para $\\mu$.\n",
        "\n",
        "**c)** Encuentra un intervalo de confianza al nivel de $90\\%$ para $\\sigma^2$."
      ],
      "metadata": {
        "id": "KS2w-PT_C82R"
      }
    },
    {
      "cell_type": "markdown",
      "source": [
        "**Solución:**"
      ],
      "metadata": {
        "id": "xgC10VrmC-Nd"
      }
    },
    {
      "cell_type": "code",
      "source": [
        "import numpy as np\n",
        "from scipy import stats\n",
        "import scipy.stats as st\n",
        "\n",
        "datos = np.array([1.2, 2.1, 2.3, 1.9, 3.0, 1.5, 2.8, 2.4, 1.7, 2.6, 2.0, 1.8, 3.1, 2.2, 2.5])\n",
        "n = len(datos)\n",
        "confianza = 0.90\n",
        "alfa = 1 - confianza\n",
        "\n",
        "# a) Intervalo de confianza para μ cuando σ = 2: distribución Normal\n",
        "sigma_conocida = 2\n",
        "media_muestral = np.mean(datos)\n",
        "error_estandar = sigma_conocida / np.sqrt(n)\n",
        "z_critico = stats.norm.ppf(1 - alfa / 2)\n",
        "margen_error = z_critico * error_estandar\n",
        "limite_superior = media_muestral + margen_error\n",
        "limite_inferior = media_muestral - margen_error\n",
        "print(f\"a) Intervalo de confianza del 90% para μ (σ = 2): ({limite_inferior:.2f},{limite_superior:.2f})\")\n",
        "\n",
        "# b) Intervalo de confianza para μ (σ desconocida): distribución T-Student\n",
        "gl = n - 1 #Grados de libertad\n",
        "\n",
        "#media y error estandar\n",
        "mean = np.mean(datos)\n",
        "error_est = st.sem(datos)\n",
        "intervalo = st.t.interval(confianza, gl, loc = mean, scale = error_est)\n",
        "\n",
        "print(f\"El intervalo de  del 90% confianza para μ (σ desconocida) es: {intervalo}\")\n",
        "\n",
        "# c) Intervalo de confianza para σ²: distribución X^2\n",
        "varianza_muestral = np.var(datos, ddof=1)\n",
        "chi2_inferior = stats.chi2.ppf(alfa / 2, n - 1)\n",
        "chi2_superior = stats.chi2.ppf(1 - alfa / 2, n - 1)\n",
        "intervalo_c = ((n - 1) * varianza_muestral / chi2_superior, (n - 1) * varianza_muestral / chi2_inferior)\n",
        "\n",
        "print(f\"c) Intervalo del 90% confianza para σ²: {intervalo_c}\")"
      ],
      "metadata": {
        "colab": {
          "base_uri": "https://localhost:8080/"
        },
        "id": "I81rDoVNDA9N",
        "outputId": "7bbec5a9-58e0-4634-bd26-7e601608d039"
      },
      "execution_count": null,
      "outputs": [
        {
          "output_type": "stream",
          "name": "stdout",
          "text": [
            "a) Intervalo de confianza del 90% para μ (σ = 2): (1.36,3.06)\n",
            "El intervalo de  del 90% confianza para μ (σ desconocida) es: (np.float64(1.9590867859121577), np.float64(2.4542465474211754))\n",
            "c) Intervalo del 90% confianza para σ²: (np.float64(0.17518977811239209), np.float64(0.6314968974778152))\n"
          ]
        }
      ]
    },
    {
      "cell_type": "markdown",
      "source": [
        "## $ \\color{red}{\\text{Ejercicio 3:}} $"
      ],
      "metadata": {
        "id": "_tfj4nDdRLFH"
      }
    },
    {
      "cell_type": "markdown",
      "source": [
        "Los ingresos semanales promedio de las personas que trabajan en varias industrias aparecieron en el *The New York Times 1988 Almanac*.\n",
        "\n",
        "Esos ingresos para quienes trabajan en los servicios fueron de $\\$369$. Suponga que este resultado se basó en una muestra de 250 personas dedicadas a los servicios y que la desviación estándar de la muestra fue de $\\$50$.\n",
        "\n",
        "Calcula el intervalo de confianza del 95% para la media de la población de ingresos semanales de personas que trabajan en los servicios."
      ],
      "metadata": {
        "id": "D0RDA5R3DqQ-"
      }
    },
    {
      "cell_type": "markdown",
      "source": [
        "**Solución:**"
      ],
      "metadata": {
        "id": "9-wuIO_9DrdX"
      }
    },
    {
      "cell_type": "code",
      "source": [
        "import numpy as np\n",
        "import scipy.stats as st\n",
        "\n",
        "# Datos\n",
        "n=250\n",
        "sigma = 50\n",
        "media_muestral = 369\n",
        "confianza = 0.95\n",
        "\n",
        "# Error estándar de la media\n",
        "error_estandar = sigma / np.sqrt(n)\n",
        "\n",
        "# Margen de error\n",
        "z = st.norm.ppf(1-(1-confianza) / 2)\n",
        "margen_error = z * error_estandar\n",
        "\n",
        "# Intervalo de confianza\n",
        "limite_inferior = media_muestral - margen_error\n",
        "limite_superior = media_muestral + margen_error\n",
        "print(f\" Intervalo de confianza del 95%: ({limite_inferior:.2f},{limite_superior:.2f})\")\n"
      ],
      "metadata": {
        "id": "Q6iP5WnrDvAt",
        "colab": {
          "base_uri": "https://localhost:8080/"
        },
        "outputId": "8488ca27-cee7-424a-b5c5-40553c00df8f"
      },
      "execution_count": null,
      "outputs": [
        {
          "output_type": "stream",
          "name": "stdout",
          "text": [
            " Intervalo de confianza del 95%: (362.80,375.20)\n"
          ]
        }
      ]
    },
    {
      "cell_type": "markdown",
      "source": [
        "## $ \\color{red}{\\text{Ejercicio 4:}} $"
      ],
      "metadata": {
        "id": "LjIUytiuTC1Q"
      }
    },
    {
      "cell_type": "markdown",
      "source": [
        "En un estudio de préstamos a estudiantes, el Departamento de Educación informó que los beneficiarios del fondo Stafford Loan deberían un promedio de \\$12,658 al recibirse (*USA Today*, 5 de abril de 1995).\n",
        "\n",
        "Suponga que este promedio de deuda se basa en una muestra de 480 préstamos a estudiantes y que la desviación estándar de la población de las deudas al recibirse es \\$2,000.\n",
        "\n",
        "**a)** Determina un estimado de confianza del **90%** del promedio poblacional de la deuda.\n",
        "\n",
        "**b)** Determina un estimado de confianza del **95%** del promedio poblacional de la deuda.\n",
        "\n",
        "**c)** Determina un estimado de confianza del **99%** del promedio poblacional de la deuda.\n",
        "\n",
        "**d)** Describe lo que sucede con el **ancho del intervalo de confianza** a medida que se **aumenta el nivel de confianza**. ¿Parece razonable? Explica tu respuesta."
      ],
      "metadata": {
        "id": "C0l8ZPwICiLJ"
      }
    },
    {
      "cell_type": "markdown",
      "source": [
        "**Solución:**"
      ],
      "metadata": {
        "id": "M9aldDTCCm8d"
      }
    },
    {
      "cell_type": "code",
      "source": [
        "import math\n",
        "import numpy as np\n",
        "from scipy import stats\n",
        "import scipy.stats as st\n",
        "\n",
        "# Datos\n",
        "media_muestral = 12658\n",
        "tamano_muestra = 480\n",
        "desviacion_estandar_poblacion = 2000\n",
        "\n",
        "# Función para calcular el intervalo de confianza\n",
        "def intervalo_confianza(media, desviacion, tamano, confianza):\n",
        "  \"\"\"\n",
        "  Calcula el intervalo de confianza para la media poblacional.\n",
        "\n",
        "  Args:\n",
        "    media: La media muestral.\n",
        "    desviacion: La desviación estándar de la población.\n",
        "    tamano: El tamaño de la muestra.\n",
        "    confianza: El nivel de confianza (por ejemplo, 0.90, 0.95, 0.99).\n",
        "\n",
        "  Returns:\n",
        "    Una tupla con el límite inferior y superior del intervalo de confianza.\n",
        "  \"\"\"\n",
        "  alpha = 1 - confianza\n",
        "  error_estandar = desviacion / math.sqrt(tamano)\n",
        "  valor_critico = st.norm.ppf(1- alpha / 2)\n",
        "  margen_error = valor_critico * error_estandar\n",
        "  limite_inferior = media - margen_error\n",
        "  limite_superior = media + margen_error\n",
        "  return limite_inferior, limite_superior\n",
        "\n",
        "# Calcular los intervalos de confianza\n",
        "intervalo_90 = intervalo_confianza(media_muestral, desviacion_estandar_poblacion, tamano_muestra, 0.90)\n",
        "intervalo_95 = intervalo_confianza(media_muestral, desviacion_estandar_poblacion, tamano_muestra, 0.95)\n",
        "intervalo_99 = intervalo_confianza(media_muestral, desviacion_estandar_poblacion, tamano_muestra, 0.99)\n",
        "\n",
        "# Imprimir los resultados\n",
        "print(f\" a) Intervalo de confianza del 90%: {intervalo_90}\")\n",
        "print(f\" b) Intervalo de confianza del 95%: {intervalo_95}\")\n",
        "print(f\" c) Intervalo de confianza del 99%: {intervalo_99}\")"
      ],
      "metadata": {
        "colab": {
          "base_uri": "https://localhost:8080/"
        },
        "id": "eBnBBjyTCpw1",
        "outputId": "24f75f2e-cb81-479c-d3e7-71b66ee909c3"
      },
      "execution_count": null,
      "outputs": [
        {
          "output_type": "stream",
          "name": "stdout",
          "text": [
            " a) Intervalo de confianza del 90%: (np.float64(12507.846094120749), np.float64(12808.153905879251))\n",
            " b) Intervalo de confianza del 95%: (np.float64(12479.080585628284), np.float64(12836.919414371716))\n",
            " c) Intervalo de confianza del 99%: (np.float64(12422.860031027241), np.float64(12893.139968972759))\n"
          ]
        }
      ]
    },
    {
      "cell_type": "markdown",
      "source": [
        "En el inciso de las  **d)** podemos sacar una conclusion....\n",
        "\n",
        "A medida que aumenta el nivel de confianza, el ancho del intervalo de confianza también aumenta. Esto significa que a medida que estamos más seguros de que el intervalo contiene la media poblacional real, el intervalo se vuelve más amplio y esto parece razonable ya que un intervalo de confianza más amplio proporciona una mayor seguridad de que el parámetro de población está dentro del intervalo, pero también proporciona menos precisión. Un intervalo de confianza más estrecho proporciona más precisión, pero menos seguridad."
      ],
      "metadata": {
        "id": "RXxmtA1CDOcA"
      }
    },
    {
      "cell_type": "markdown",
      "source": [
        "## $ \\color{red}{\\text{Ejercicio 5:}} $"
      ],
      "metadata": {
        "id": "lUHOy0OrT_-f"
      }
    },
    {
      "cell_type": "markdown",
      "source": [
        "**Solución:**"
      ],
      "metadata": {
        "id": "rTvykOM2U3JC"
      }
    },
    {
      "cell_type": "markdown",
      "source": [
        "La encuesta anual de calidad de automóviles, efectuada por *J. D. Power & Associates*; se determinó que la cantidad promedio de defectos, en todas las marcas, por cada vehículo nuevo es **1.07**  (*The Wall Street Journal*, 27 de enero de 1994).\n",
        "\n",
        "Suponga que se toma una muestra de **30 automóviles nuevos** de determinada marca y se obtienen las siguientes cantidades de defectos por vehículo:\n",
        "\n",
        "$$ 0, 1, 1, 2, 1, 0, 2, 3, 2, 1, 0, 2, 0, 0, 2, 3, 0, 4, 3, 1, 1, 1, 0, 2, 0, 2, 0, 3, 1, 0 $$\n",
        "\n",
        "**a)** ¿Cuál es el promedio muestral de la cantidad de defectos por vehículo?\n",
        "\n",
        "**b)** ¿Cuál es la desviación estándar de la muestra?\n",
        "\n",
        "**c)** Determine un intervalo de confianza del 95% para la **media de defectos** por vehículo de esta marca.\n",
        "\n",
        "**d)** Un analista sugirió que se debería **revisar una muestra mayor** antes de comparar con el promedio general de J.D. Power (1.07). ¿Respalda usted esta idea? ¿Por qué?"
      ],
      "metadata": {
        "id": "2ogqtFMvqb-0"
      }
    },
    {
      "cell_type": "markdown",
      "source": [
        "a) Promedio muestral\n",
        "\n",
        "$$\n",
        "\\bar{x} = \\frac{\\sum x_i}{n} = \\frac{41}{30} \\approx 1.367\n",
        "$$\n",
        "\n",
        "b) Desviación estándar muestral\n",
        "\n",
        "$$\n",
        "s = \\sqrt{\\frac{1}{n - 1} \\sum (x_i - \\bar{x})^2} = \\sqrt{\\frac{44.933}{29}} \\approx \\sqrt{1.5494} \\approx 1.245\n",
        "$$\n",
        "\n",
        "c) Intervalo de confianza del 95% para la media\n",
        "\n",
        "Grados de libertad: \\( df = 29 \\), valor crítico: \\( t_{0.025, 29} \\approx 2.045 \\)\n",
        "\n",
        "Error estándar:\n",
        "\n",
        "$$\n",
        "\\frac{s}{\\sqrt{n}} = \\frac{1.245}{\\sqrt{30}} \\approx 0.2273\n",
        "$$\n",
        "\n",
        "Margen de error:\n",
        "\n",
        "$$\n",
        "ME = 2.045 \\cdot 0.2273 \\approx 0.465\n",
        "$$\n",
        "\n",
        "Intervalo:\n",
        "\n",
        "$$\n",
        "\\bar{x} \\pm ME = 1.367 \\pm 0.465 \\Rightarrow (0.902, 1.832)\n",
        "$$\n",
        "\n",
        "d) ¿Se debería revisar una muestra mayor?\n",
        "\n",
        "El valor de 1.07 está dentro del intervalo \\((0.902, 1.832)\\), por lo que no se puede afirmar que la media de esta marca sea diferente a la general.  \n",
        "Sin embargo, una muestra mayor permitiría reducir la amplitud del intervalo y obtener una estimación más precisa.\n"
      ],
      "metadata": {
        "id": "n5A3Ef-FrtTs"
      }
    },
    {
      "cell_type": "code",
      "source": [
        "import numpy as np\n",
        "from scipy import stats\n",
        "\n",
        "# Datos\n",
        "defectos = np.array([0, 1, 1, 2, 1, 0, 2, 3, 2, 1, 0, 2, 0, 0, 2, 3, 0, 4, 3, 1, 1, 1, 0, 2, 0, 2, 0, 3, 1, 0])\n",
        "n = len(defectos)\n",
        "\n",
        "# a) Promedio\n",
        "x_bar = np.mean(defectos)\n",
        "print(f\"a) Promedio muestral: {x_bar:.3f}\")\n",
        "\n",
        "# b) Desviación estándar\n",
        "s = np.std(defectos, ddof=1)\n",
        "print(f\"b) Desviación estándar: {s:.3f}\")\n",
        "\n",
        "# c) Intervalo de confianza\n",
        "t_critico = stats.t.ppf(0.975, df=n-1)\n",
        "margen_error = t_critico * (s / np.sqrt(n))\n",
        "IC = (x_bar - margen_error, x_bar + margen_error)\n",
        "print(f\"c) IC 95%: ({IC[0]:.3f}, {IC[1]:.3f})\")"
      ],
      "metadata": {
        "colab": {
          "base_uri": "https://localhost:8080/"
        },
        "id": "Bsoa5n6JqdBa",
        "outputId": "29192dc8-0814-4ef0-9d09-cff2655dd868"
      },
      "execution_count": null,
      "outputs": [
        {
          "output_type": "stream",
          "name": "stdout",
          "text": [
            "a) Promedio muestral: 1.267\n",
            "b) Desviación estándar: 1.172\n",
            "c) IC 95%: (0.829, 1.704)\n"
          ]
        }
      ]
    },
    {
      "cell_type": "markdown",
      "source": [
        "## $ \\color{red}{\\text{Ejercicio 6:}} $"
      ],
      "metadata": {
        "id": "75eR-5OOVXHb"
      }
    },
    {
      "cell_type": "markdown",
      "source": [
        "Un artículo que apareció en el ejemplar de noviembre de 1983 de *Consumer Reports* comparó varios tipos de baterías.  \n",
        "\n",
        "Se informó que los siguientes datos provienen de una muestra de 20 baterías (en horas de duración):\n",
        "\n",
        "$$ [2200, 2290, 2390, 2410, 2480, 2500, 2580, 2700, 2030, 2100, 2190, 1600, 1740, 1900, 1930, 2000, 1510, 1470, 1770, 1710] $$\n",
        "\n",
        "Determine la media muestral, la desviación estándar muestral, y el intervalo de confianza del **90%** para la media poblacional."
      ],
      "metadata": {
        "id": "djt1GE9n-0f-"
      }
    },
    {
      "cell_type": "markdown",
      "source": [
        "**Solución:**"
      ],
      "metadata": {
        "id": "zaN33aEEVXHb"
      }
    },
    {
      "cell_type": "code",
      "source": [
        "import numpy as np\n",
        "import scipy.stats as stats\n",
        "\n",
        "# Datos de la muestra\n",
        "datos = [2200, 2290, 2390, 2410, 2480, 2500, 2580, 2700, 2030, 2100,\n",
        "         2190, 1600, 1740, 1900, 1930, 2000, 1510, 1470, 1770, 1710]\n",
        "\n",
        "# Cálculo de la media muestral\n",
        "media_muestral = np.mean(datos)\n",
        "\n",
        "# Cálculo de la desviación estándar muestral\n",
        "desviacion_estandar_muestral = np.std(datos, ddof=1)  # ddof=1 para corrección de Bessel\n",
        "\n",
        "# Cálculo del intervalo de confianza del 90%\n",
        "nivel_confianza = 0.90\n",
        "grados_libertad = len(datos) - 1\n",
        "t_critico = stats.t.ppf((1 + nivel_confianza) / 2, grados_libertad)\n",
        "margen_error = t_critico * (desviacion_estandar_muestral / np.sqrt(len(datos)))\n",
        "limite_inferior = media_muestral - margen_error\n",
        "limite_superior = media_muestral + margen_error\n",
        "\n",
        "# Resultados\n",
        "print(f\"Media muestral: {media_muestral:.2f}\")\n",
        "print(f\"Desviación estándar muestral: {desviacion_estandar_muestral:.2f}\")\n",
        "print(f\"Intervalo de confianza del 90%: ({limite_inferior:.2f}, {limite_superior:.2f})\")\n"
      ],
      "metadata": {
        "id": "o6pQLZi7_GUo",
        "outputId": "438137de-1419-4f03-f6ce-4b0792143384",
        "colab": {
          "base_uri": "https://localhost:8080/"
        }
      },
      "execution_count": null,
      "outputs": [
        {
          "output_type": "stream",
          "name": "stdout",
          "text": [
            "Media muestral: 2075.00\n",
            "Desviación estándar muestral: 368.93\n",
            "Intervalo de confianza del 90%: (1932.35, 2217.65)\n"
          ]
        }
      ]
    },
    {
      "cell_type": "markdown",
      "source": [
        "## $ \\color{red}{\\text{Ejercicio 7:}} $"
      ],
      "metadata": {
        "id": "bFfg5A6uU5VF"
      }
    },
    {
      "cell_type": "markdown",
      "source": [
        "El toxafen es un insecticida que ha sido identificado como contaminante en el ecosistema de los Grandes Lagos. Para investigar el efecto de la exposición al toxafen en animales, a grupos de ratas se les administró toxafen en su dieta.\n",
        "\n",
        "El artículo *\"Reproduction Study of Toxaphene in Rat\"* reporta **aumentos de peso (en gramos)** de ratas a las que se les administró una **dosis baja (4 ppm)** y de ratas de **control** cuya dieta no incluía el insecticida.\n",
        "\n",
        "- En el grupo **control**, una muestra de **23 ratas hembras** tuvo una media de **$\\bar{X_2} = 210$ g** y una desviación estándar de **32 g**.\n",
        "- En el grupo con **dosis baja**, una muestra de **20 ratas hembras** tuvo una media de **$\\bar{X_1} = 190$ g** y una desviación estándar de **54 g**.\n",
        "\n",
        "Encuentra un **intervalo de confianza del 90% para la diferencia de medias** poblacionales:  $\\mu_1 - \\mu_2$, donde:\n",
        "\n",
        "- $\\mu_1$ es la media poblacional de incremento de peso en el grupo con **dosis baja**.\n",
        "- $\\mu_2$ es la media poblacional de incremento de peso en el grupo **control**.\n",
        "\n",
        "¿Sugiere este intervalo que el toxafen **reduce** el incremento de peso en ratas?  \n",
        "¿Incluye el intervalo el valor 0? ¿Por qué es importante?"
      ],
      "metadata": {
        "id": "7UWAC2druH2u"
      }
    },
    {
      "cell_type": "markdown",
      "source": [
        "**Solución:**"
      ],
      "metadata": {
        "id": "UZZyzTnOU5ja"
      }
    },
    {
      "cell_type": "markdown",
      "source": [
        "Se desea estimar la diferencia entre medias poblacionales de incremento de peso en ratas con:\n",
        "\n",
        "- Grupo 1 (dosis baja):  \n",
        "  $$\\ \\bar{X}_1 = 190 \\ g, \\ s_1 = 54 \\ g,  n_1 = 20 \\$$\n",
        "\n",
        "- Grupo 2 (control):  \n",
        "  $$\\ \\bar{X}_2 = 210 \\ g, \\ s_2 = 32 \\ g, \\ n_2 = 23 \\$$\n",
        "\n",
        "Intervalo de confianza del 90% para $$\\mu_1 - \\mu_2$$\n",
        "\n",
        "Como las varianzas no se pueden asumir iguales, usamos el método de **Welch** para el intervalo de confianza:\n",
        "\n",
        "$$\n",
        "(\\bar{X}_1 - \\bar{X}_2) \\pm t^* \\cdot \\sqrt{ \\frac{s_1^2}{n_1} + \\frac{s_2^2}{n_2} }\n",
        "$$\n",
        "\n",
        "Paso 1: Diferencia de medias\n",
        "\n",
        "$$\n",
        "\\bar{X}_1 - \\bar{X}_2 = 190 - 210 = -20\n",
        "$$\n",
        "\n",
        "Paso 2: Error estándar\n",
        "\n",
        "$$\n",
        "SE = \\sqrt{ \\frac{54^2}{20} + \\frac{32^2}{23} } = \\sqrt{145.8 + 44.52} = \\sqrt{190.32} \\approx 13.79\n",
        "$$\n",
        "\n",
        "Paso 3: Grados de libertad aproximados (fórmula de Welch)\n",
        "\n",
        "$$\n",
        "df \\approx \\frac{(s_1^2/n_1 + s_2^2/n_2)^2}{\\frac{(s_1^2/n_1)^2}{n_1-1} + \\frac{(s_2^2/n_2)^2}{n_2-1}} \\approx 31.4\n",
        "$$\n",
        "\n",
        "Usamos \\( t^* \\approx 1.697 \\) para 90% de confianza con \\( df \\approx 31 \\)\n",
        "\n",
        "Paso 4: Intervalo de confianza\n",
        "\n",
        "$$\n",
        "-20 \\pm 1.697 \\cdot 13.79 \\Rightarrow -20 \\pm 23.4\n",
        "$$\n",
        "\n",
        "$$\n",
        "\\text{IC 90%: } (-43.4,\\ 3.4)\n",
        "$$\n",
        "\n",
        "Interpretación\n",
        "\n",
        "El intervalo de confianza para \\( \\mu_1 - \\mu_2 \\) es \\( (-43.4,\\ 3.4) \\).\n",
        "\n",
        "- Como **incluye el 0**, **no hay evidencia suficiente** para afirmar una diferencia significativa entre los grupos.\n",
        "- El hecho de que el límite inferior sea negativo sugiere que **podría haber una reducción en el incremento de peso** debido al toxafen, pero la evidencia **no es concluyente** con un 90% de confianza.\n"
      ],
      "metadata": {
        "id": "d638jn_PucZQ"
      }
    },
    {
      "cell_type": "code",
      "source": [
        "# Datos del grupo dosis baja\n",
        "x1_bar = 190\n",
        "s1 = 54\n",
        "n1 = 20\n",
        "\n",
        "# Datos del grupo control\n",
        "x2_bar = 210\n",
        "s2 = 32\n",
        "n2 = 23\n",
        "\n",
        "# Diferencia de medias\n",
        "diff = x1_bar - x2_bar  # μ1 - μ2\n",
        "\n",
        "# Error estándar de la diferencia\n",
        "se = np.sqrt((s1**2)/n1 + (s2**2)/n2)\n",
        "\n",
        "# Grados de libertad con fórmula de Welch\n",
        "numerador = ((s1**2)/n1 + (s2**2)/n2)**2\n",
        "denominador = (( (s1**2)/n1 )**2)/(n1-1) + (( (s2**2)/n2 )**2)/(n2-1)\n",
        "df = numerador / denominador\n",
        "\n",
        "# Valor crítico t para 90% de confianza (dos colas)\n",
        "alpha = 0.10\n",
        "t_crit = stats.t.ppf(1 - alpha/2, df)\n",
        "\n",
        "# Margen de error\n",
        "margin_error = t_crit * se\n",
        "\n",
        "# Intervalo de confianza\n",
        "ci_lower = diff - margin_error\n",
        "ci_upper = diff + margin_error\n",
        "\n",
        "# Resultados\n",
        "print(f\"Diferencia de medias (μ1 - μ2): {diff:.2f}\")\n",
        "print(f\"Error estándar: {se:.2f}\")\n",
        "print(f\"Grados de libertad aproximados: {df:.2f}\")\n",
        "print(f\"Valor t crítico (90%): {t_crit:.3f}\")\n",
        "print(f\"Intervalo de confianza del 90%: ({ci_lower:.2f}, {ci_upper:.2f})\")\n",
        "\n",
        "# Interpretación rápida\n",
        "if ci_lower < 0 and ci_upper > 0:\n",
        "    print(\"El intervalo incluye 0 → No hay diferencia significativa con 90% de confianza.\")\n",
        "elif ci_upper < 0:\n",
        "    print(\"El intervalo es negativo → El toxafen podría reducir el incremento de peso.\")\n",
        "elif ci_lower > 0:\n",
        "    print(\"El intervalo es positivo → El toxafen podría aumentar el incremento de peso.\")"
      ],
      "metadata": {
        "colab": {
          "base_uri": "https://localhost:8080/"
        },
        "id": "ksKsLupfsLyL",
        "outputId": "b50cbf55-f825-484f-b5b5-497331af4c65"
      },
      "execution_count": null,
      "outputs": [
        {
          "output_type": "stream",
          "name": "stdout",
          "text": [
            "Diferencia de medias (μ1 - μ2): -20.00\n",
            "Error estándar: 13.80\n",
            "Grados de libertad aproximados: 29.96\n",
            "Valor t crítico (90%): 1.697\n",
            "Intervalo de confianza del 90%: (-43.42, 3.42)\n",
            "El intervalo incluye 0 → No hay diferencia significativa con 90% de confianza.\n"
          ]
        }
      ]
    }
  ],
  "metadata": {
    "colab": {
      "provenance": []
    },
    "kernelspec": {
      "display_name": "Python [conda env:base] *",
      "language": "python",
      "name": "conda-base-py"
    },
    "language_info": {
      "codemirror_mode": {
        "name": "ipython",
        "version": 3
      },
      "file_extension": ".py",
      "mimetype": "text/x-python",
      "name": "python",
      "nbconvert_exporter": "python",
      "pygments_lexer": "ipython3",
      "version": "3.12.7"
    }
  },
  "nbformat": 4,
  "nbformat_minor": 0
}