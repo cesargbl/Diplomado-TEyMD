{
  "cells": [
    {
      "cell_type": "markdown",
      "id": "19cb5130-dc6d-41ba-b352-adfa5bb449ce",
      "metadata": {
        "id": "19cb5130-dc6d-41ba-b352-adfa5bb449ce"
      },
      "source": [
        "## Estimador Máximo Verosímil"
      ]
    },
    {
      "cell_type": "markdown",
      "id": "2dc434cf-3a3d-466e-8e6c-3d31d7658f26",
      "metadata": {
        "id": "2dc434cf-3a3d-466e-8e6c-3d31d7658f26"
      },
      "source": [
        "Existen distintos métodos para estimar parámetros desconocidos a partir de un conjunto de datos. El Estimador Máximo Verosímil (MLE) responde a la siguiente pregunta:\n",
        "\n",
        "¿Para qué valor del parámetro, los datos observados tienen la probabilidad más alta?\n",
        "\n",
        "**Ejemplo 1** Una moneda se lanza 100 veces. Dado que se obtienen 55 soles, econtrar el MLE para la probabilidad $p$ de obtener sol en un sólo lanzamiento,\n",
        "\n",
        "Podemos pensar en contar el número de soles en los 100 lanzamientos, entonces la probabilidad de obtener 55 soles en este experimento, es la siguiente:\n",
        "\n",
        "Si $X:$ el numero de soles que se obtienen al lanzar una moneda, se tiene que $X\\sim Bin(100,p)$, es decir,\n",
        "\n",
        "$$ P(55 soles; p) = \\binom{100}{55}p^{55}(1-p)^{100-55} $$\n"
      ]
    },
    {
      "cell_type": "markdown",
      "id": "8664de36-8352-4ee0-a37f-1b7e20e89c76",
      "metadata": {
        "id": "8664de36-8352-4ee0-a37f-1b7e20e89c76"
      },
      "source": [
        "**Función de verosímilitud.** Sea $X_1,X_2,\\dots,X_n$ una muestra aleatoria con $f(x;\\theta)$. La función de verosimilitud (likelihood) es:\n",
        "$$ f(x_1,\\dots,x_n;\\theta) = f(x_1;\\theta)\\cdots f(x_n;\\theta) $$\n",
        "Entpnces,\n",
        "$$ L(x_1,\\dots,x_n;\\theta) = \\prod_{i=1}^n f(x_i,\\theta) $$\n",
        "\n",
        "Ejemplo. Si $X_1,\\dots,X_n$ es una m.a. Poisson($\\lambda$), entonces\n",
        "$$ L(x_1,\\dots,x_n;\\lambda) = \\frac{e^{-n\\lambda} \\lambda^{\\sum x_i }}{\\prod x_i !}$$"
      ]
    },
    {
      "cell_type": "markdown",
      "id": "c34f54d4-dffb-4601-b864-c287c874783e",
      "metadata": {
        "id": "c34f54d4-dffb-4601-b864-c287c874783e"
      },
      "source": [
        "**Estimador Máximo Verosímil** es el valor de $\\theta$, donde $L(x_1,\\dots,x_n;\\theta)$ alcanza el máximo.\n",
        "\n",
        "Pasos:\n",
        "\n",
        "- $$ L(x_1,\\dots,x_n;\\theta) = \\prod_{i=1}^n f(x_i,\\theta) $$\n",
        "- $$\\ln L(x_1,\\dots,x_n;\\theta) $$\n",
        "- $$ \\frac{d\\ln L(x_1,\\dots,x_n;\\theta)}{d\\theta} $$\n",
        "- $$ \\frac{d\\ln L(x_1,\\dots,x_n;\\theta)}{d\\theta} = 0 $$\n",
        "  y despejar $\\theta$ para encontrar el máximo."
      ]
    },
    {
      "cell_type": "markdown",
      "id": "01bac067-f664-40b2-8203-1c7aec67e672",
      "metadata": {
        "id": "01bac067-f664-40b2-8203-1c7aec67e672"
      },
      "source": [
        "Para nuestro caso, tenemos\n",
        "$$ \\frac{P(55 soles ;p)}{dp}=\\binom{100}{55}p^{55}(1-p)^{45} - 45p^{55}(1-p)^44=0$$\n",
        "entonces, resolviendo para $p$, se tiene\n",
        "$$ \\binom{100}{55}p^{55}(1-p)^{45}=45^{55}(1-p)^44 $$\n",
        "entonces,\n",
        "$$ 55(1-p) = 45p $$\n",
        "entonces,\n",
        "$$p = \\frac{55}{100}$$\n",
        "\n",
        "Por lo tanto, el MLE para $p$, es $\\hat{p}=0.55$"
      ]
    },
    {
      "cell_type": "code",
      "execution_count": null,
      "id": "aed685e0-520d-4036-9ef7-062b983269e7",
      "metadata": {
        "id": "aed685e0-520d-4036-9ef7-062b983269e7",
        "outputId": "460ffc5c-eb41-4c9a-a289-975cca13c2d7"
      },
      "outputs": [
        {
          "name": "stdout",
          "output_type": "stream",
          "text": [
            "Es estimador de máxima verosimilitud es 11/20\n"
          ]
        }
      ],
      "source": [
        "from scipy.stats import bernoulli, binom\n",
        "import numpy as np\n",
        "import sympy # para calculo simbolico y algebraico -> encontra el estimador de maneta analítica\n",
        "from sympy.abc import x\n",
        "\n",
        "# Definir a p como una variable simbolica positiva\n",
        "\n",
        "p = sympy.symbols('p', positive = True )\n",
        "f = p**55 * (1-p)**(100-55)\n",
        "phat = sympy.solve(sympy.diff(f,p),p)[0]\n",
        "\n",
        "print(\"Es estimador de máxima verosimilitud es\", phat)"
      ]
    },
    {
      "cell_type": "markdown",
      "id": "cb70c305-3e2d-49e8-8e1e-3127a5264a68",
      "metadata": {
        "id": "cb70c305-3e2d-49e8-8e1e-3127a5264a68"
      },
      "source": [
        "Veamos otro ejemplo:"
      ]
    },
    {
      "cell_type": "code",
      "execution_count": null,
      "id": "c986bdbb-177a-466c-a805-9dd7acc28ca3",
      "metadata": {
        "id": "c986bdbb-177a-466c-a805-9dd7acc28ca3",
        "outputId": "c1e37821-6d86-4a04-a15f-12eed1f2c92e"
      },
      "outputs": [
        {
          "data": {
            "text/plain": [
              "array([0, 1, 0, 0, 0, 0, 0, 1, 1, 1, 1, 1, 1, 1, 1, 1, 1, 0, 0, 1, 0, 1,\n",
              "       1, 0, 0, 1, 1, 1, 1, 1, 1, 0, 1, 1, 1, 0, 1, 0, 1, 0, 1, 1, 1, 1,\n",
              "       0, 0, 1, 1, 1, 0, 0, 0, 1, 1, 0, 1, 1, 1, 1, 1, 1, 1, 1, 1, 0, 0,\n",
              "       1, 1, 1, 1, 1, 1, 0, 1, 1, 1, 1, 1, 1, 0, 0, 1, 1, 0, 1, 1, 0, 0,\n",
              "       1, 1, 1, 1, 0, 1, 0, 0, 0, 1, 0, 1], dtype=int64)"
            ]
          },
          "execution_count": 41,
          "metadata": {},
          "output_type": "execute_result"
        }
      ],
      "source": [
        "r = binom.rvs(1,0.7, size=100)\n",
        "r"
      ]
    },
    {
      "cell_type": "code",
      "execution_count": null,
      "id": "34f99224-25d8-47e4-955a-1b7107c7a8d1",
      "metadata": {
        "id": "34f99224-25d8-47e4-955a-1b7107c7a8d1",
        "outputId": "c71fc2d7-7b0a-42c3-c7f5-a17e236a7bbd"
      },
      "outputs": [
        {
          "name": "stdout",
          "output_type": "stream",
          "text": [
            "Es estimador de máxima verosimilitud es 33/50\n"
          ]
        }
      ],
      "source": [
        "f = p**x*(1-p)**(1-x)\n",
        "J = np.prod([f.subs(x,i) for i in r])\n",
        "logJ = sympy.expand_log(sympy.log(J)) #logaritmo\n",
        "phat = sympy.solve(sympy.diff(logJ,p),p)[0]\n",
        "print(\"Es estimador de máxima verosimilitud es\", phat)"
      ]
    },
    {
      "cell_type": "markdown",
      "id": "f63cfc07-4ec9-40d4-91b6-1f93b42fb7d7",
      "metadata": {
        "id": "f63cfc07-4ec9-40d4-91b6-1f93b42fb7d7"
      },
      "source": [
        "Ejercicio: El tiempo de retardo para pacientes con enfermedad coronaria potencial se define como la duración entre el comienzo de un síntoma agudo cardiovascular y la llegada a la unidad de emergencia.\n",
        "\n",
        "Se supone que el tiempo de retardo sigue una distribución exponencial con parámetro $\\theta $.\n",
        "\n",
        "Se registraron los tiempos de retardo (en minutos) en la clínica para los primeros 20 pacientes:\n",
        "\n",
        "$$ 525, \\ 719, \\ 2880, \\ 150, \\ 30, \\ 251, \\ 45, \\ 858, \\ 15, \\ 47, \\ 90, \\ 56, \\ 68, \\ 6, \\ 189, \\ 180, \\ 60, \\ 60, \\ 294, \\ 747 $$\n",
        "\n",
        "- Encuentra un estimador por el método de momentos para la media de la distribución.\n",
        "- Encuentra el valor del estimador con los datos dados."
      ]
    },
    {
      "cell_type": "markdown",
      "id": "81b2cc33-73c5-4e8d-b100-76bd737196f2",
      "metadata": {
        "id": "81b2cc33-73c5-4e8d-b100-76bd737196f2"
      },
      "source": [
        "Ejercicio. Sea una muestra aleatoria $X_1, \\ldots, X_n \\overset{iid}{\\sim} \\mathcal{N}(\\mu, \\sigma^2) $.\n",
        "Queremos encontrar el estimador de máxima verosimilitud para $\\mu$ y $\\sigma^2$.\n",
        "\n",
        "La función de densidad es:\n",
        "$$ f(x; \\mu, \\sigma^2) = \\frac{1}{\\sqrt{2\\pi \\sigma^2}} \\exp\\left(-\\frac{(x - \\mu)^2}{2\\sigma^2}\\right) \\cdot \\mathbf{1}_{(-\\infty, \\infty)}(x)$$"
      ]
    },
    {
      "cell_type": "markdown",
      "id": "0a99fcb3-17fa-4306-9d33-92b9d3087347",
      "metadata": {
        "id": "0a99fcb3-17fa-4306-9d33-92b9d3087347"
      },
      "source": [
        "Ejercicio (Pyton). Suponga que la vida util de los focos de cierta marca, se modela mediante una distribución expoencial de parametro $\\theta$ (desconocido). Probamos 5 focos y encontramos que tienen una vida útil de $2,3,1,3$ y $5$ años, respectivamente. ¿Cuál es el MLE para $\\theta$?"
      ]
    },
    {
      "cell_type": "markdown",
      "id": "48b6aa56-e012-4227-8aaf-0ed8387704fb",
      "metadata": {
        "id": "48b6aa56-e012-4227-8aaf-0ed8387704fb"
      },
      "source": [
        "![{1C6604BA-A017-42EA-BB52-E61CA432722B}.png](attachment:091ac296-7364-4a36-87e7-fd20ee0f9b9b.png)"
      ]
    }
  ],
  "metadata": {
    "kernelspec": {
      "display_name": "Python [conda env:base] *",
      "language": "python",
      "name": "conda-base-py"
    },
    "language_info": {
      "codemirror_mode": {
        "name": "ipython",
        "version": 3
      },
      "file_extension": ".py",
      "mimetype": "text/x-python",
      "name": "python",
      "nbconvert_exporter": "python",
      "pygments_lexer": "ipython3",
      "version": "3.12.7"
    },
    "colab": {
      "provenance": []
    }
  },
  "nbformat": 4,
  "nbformat_minor": 5
}