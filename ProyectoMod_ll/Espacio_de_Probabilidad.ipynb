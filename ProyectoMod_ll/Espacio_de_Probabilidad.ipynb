{
  "cells": [
    {
      "cell_type": "markdown",
      "id": "ab494890-cea1-47f8-97de-7f4de0ec4174",
      "metadata": {
        "id": "ab494890-cea1-47f8-97de-7f4de0ec4174"
      },
      "source": [
        "# 1. Probabilidad Laplaciana (clásica)\n",
        "Para un experimento aleatorio, se tiene que $\\Omega$ es el espacio muestral.\n",
        "\n",
        "Sea $A$ un evento, entonces\n",
        "\n",
        "$$ \\mathbb{P}(A) = \\frac{\\#A}{\\#\\Omega} $$\n",
        "\n",
        "**EJEMPLO:** Sea el experimento de lanzar una moneda 3 veces, de manera independiente (es decir, el $i$-ésimo lanzamiento no me afecta al $i+1$ lanzamiento). El espacio muestral de este experimento es:\n",
        "\n",
        "$$ \\Omega = \\{A,S\\} \\times \\{A,S\\} \\times \\{A,S\\} = \\{A,S\\}^3 $$\n",
        "y tenemos que $\\#\\Omega = 2^3$.\n",
        "\n",
        "Sean los eventos:\n",
        "* $A$: todos los resultados son águila\n",
        "* $S$: todos los resultados son soles\n",
        "* $E$: Por lo menos un resultado es sol\n",
        "  \n",
        "Calcular las probabilidades de estos eventos:\n",
        "\n",
        "**Solución** Vamos a descomponer mi conjunto $A$ de la siguiente manera:\n",
        "$$A = A_1 \\cap A_2 \\cap A_3 $$\n",
        "donde $A_i$: caé águila en el $i$-ésimo resultado."
      ]
    },
    {
      "cell_type": "code",
      "execution_count": 1,
      "id": "3f14bb3f-5cbf-432a-9482-a2fbb7201452",
      "metadata": {
        "id": "3f14bb3f-5cbf-432a-9482-a2fbb7201452",
        "outputId": "79c3d7e6-2c44-44e5-cb0d-7e377ce36717",
        "colab": {
          "base_uri": "https://localhost:8080/"
        }
      },
      "outputs": [
        {
          "output_type": "execute_result",
          "data": {
            "text/plain": [
              "{('A', 'A', 'A'),\n",
              " ('A', 'A', 'S'),\n",
              " ('A', 'S', 'A'),\n",
              " ('A', 'S', 'S'),\n",
              " ('S', 'A', 'A'),\n",
              " ('S', 'A', 'S'),\n",
              " ('S', 'S', 'A'),\n",
              " ('S', 'S', 'S')}"
            ]
          },
          "metadata": {},
          "execution_count": 1
        }
      ],
      "source": [
        "# Vamos a crear el espacio muestral\n",
        "import itertools #importamos el modulo\n",
        "from itertools import product\n",
        "\n",
        "Omega = set( product({\"A\",\"S\"},repeat=3 ))\n",
        "Omega"
      ]
    },
    {
      "cell_type": "code",
      "execution_count": 2,
      "id": "2ddc618a-9fbd-4c4f-9882-9acef29830b3",
      "metadata": {
        "id": "2ddc618a-9fbd-4c4f-9882-9acef29830b3",
        "outputId": "1d30942e-3c0d-4a25-9727-c8fbef83251c",
        "colab": {
          "base_uri": "https://localhost:8080/"
        }
      },
      "outputs": [
        {
          "output_type": "execute_result",
          "data": {
            "text/plain": [
              "8"
            ]
          },
          "metadata": {},
          "execution_count": 2
        }
      ],
      "source": [
        "len(Omega) # cardinalidad de Omega"
      ]
    },
    {
      "cell_type": "code",
      "execution_count": 3,
      "id": "3d9729e7-f4a9-4b56-b80b-ddb93f28bca6",
      "metadata": {
        "id": "3d9729e7-f4a9-4b56-b80b-ddb93f28bca6",
        "outputId": "eb948e65-ddab-4cec-e4bb-c1eb9f6de9d0",
        "colab": {
          "base_uri": "https://localhost:8080/"
        }
      },
      "outputs": [
        {
          "output_type": "execute_result",
          "data": {
            "text/plain": [
              "{('A', 'A', 'A'), ('A', 'A', 'S'), ('A', 'S', 'A'), ('A', 'S', 'S')}"
            ]
          },
          "metadata": {},
          "execution_count": 3
        }
      ],
      "source": [
        "# Vamos a crear el evento A_1\n",
        "A_1 = { om for om in Omega if om[0]==\"A\"} # la primera coordenada es águila\n",
        "A_1"
      ]
    },
    {
      "cell_type": "code",
      "execution_count": 4,
      "id": "fd18265c-7d78-4594-bfbd-c83125602eee",
      "metadata": {
        "id": "fd18265c-7d78-4594-bfbd-c83125602eee",
        "outputId": "1a924a97-4853-42f5-d3d5-60f50cbc162a",
        "colab": {
          "base_uri": "https://localhost:8080/"
        }
      },
      "outputs": [
        {
          "output_type": "execute_result",
          "data": {
            "text/plain": [
              "{('A', 'A', 'A'), ('A', 'A', 'S'), ('S', 'A', 'A'), ('S', 'A', 'S')}"
            ]
          },
          "metadata": {},
          "execution_count": 4
        }
      ],
      "source": [
        "# Vamos a crear el evento A_2\n",
        "A_2 = { om for om in Omega if om[1]==\"A\"} # la segunda coordenada es águila\n",
        "A_2"
      ]
    },
    {
      "cell_type": "code",
      "execution_count": 5,
      "id": "fcedf772-c10b-42eb-bcd1-2609e928b7f6",
      "metadata": {
        "id": "fcedf772-c10b-42eb-bcd1-2609e928b7f6",
        "outputId": "3abea74c-032c-494b-9cf5-940a3edf048a",
        "colab": {
          "base_uri": "https://localhost:8080/"
        }
      },
      "outputs": [
        {
          "output_type": "execute_result",
          "data": {
            "text/plain": [
              "{('A', 'A', 'A'), ('A', 'S', 'A'), ('S', 'A', 'A'), ('S', 'S', 'A')}"
            ]
          },
          "metadata": {},
          "execution_count": 5
        }
      ],
      "source": [
        "# Vamos a crear el evento A_3\n",
        "A_3 = { om for om in Omega if om[2]==\"A\"} # la tercera coordenada es águila\n",
        "A_3"
      ]
    },
    {
      "cell_type": "code",
      "execution_count": 6,
      "id": "3d2df1cd-fef2-4118-9e1b-684e29dec5df",
      "metadata": {
        "id": "3d2df1cd-fef2-4118-9e1b-684e29dec5df",
        "outputId": "acfb966f-3086-4cd4-dad1-d61808ed5b98",
        "colab": {
          "base_uri": "https://localhost:8080/"
        }
      },
      "outputs": [
        {
          "output_type": "execute_result",
          "data": {
            "text/plain": [
              "{('A', 'A', 'A')}"
            ]
          },
          "metadata": {},
          "execution_count": 6
        }
      ],
      "source": [
        "# Vamos a crear el evento A\n",
        "A = A_1.intersection(A_2.intersection(A_3))\n",
        "A"
      ]
    },
    {
      "cell_type": "code",
      "execution_count": 7,
      "id": "1e85025c-737d-4d29-b537-ad1c974dc245",
      "metadata": {
        "id": "1e85025c-737d-4d29-b537-ad1c974dc245",
        "outputId": "c7665dd3-37ed-4ed5-bcfd-7199b760fd4a",
        "colab": {
          "base_uri": "https://localhost:8080/"
        }
      },
      "outputs": [
        {
          "output_type": "execute_result",
          "data": {
            "text/plain": [
              "1"
            ]
          },
          "metadata": {},
          "execution_count": 7
        }
      ],
      "source": [
        "len(A)"
      ]
    },
    {
      "cell_type": "code",
      "execution_count": 8,
      "id": "a9befcc4-9965-4dc1-8889-085a245bd099",
      "metadata": {
        "id": "a9befcc4-9965-4dc1-8889-085a245bd099",
        "outputId": "908b2703-140e-4f0b-b8d0-bd518275e402",
        "colab": {
          "base_uri": "https://localhost:8080/"
        }
      },
      "outputs": [
        {
          "output_type": "execute_result",
          "data": {
            "text/plain": [
              "0.125"
            ]
          },
          "metadata": {},
          "execution_count": 8
        }
      ],
      "source": [
        "# Vamos a calcular la probabilidad de A\n",
        "P_A = len(A) / len(Omega)\n",
        "P_A"
      ]
    },
    {
      "cell_type": "markdown",
      "id": "cd54a257-0e41-44ee-9304-f72ba089cbc0",
      "metadata": {
        "id": "cd54a257-0e41-44ee-9304-f72ba089cbc0"
      },
      "source": [
        "Yo quiero expresar mi resultado en fracción, esto se hace de la siguiente manera:"
      ]
    },
    {
      "cell_type": "code",
      "execution_count": 9,
      "id": "d21ade82-1215-42ea-92b3-9752417cb12f",
      "metadata": {
        "id": "d21ade82-1215-42ea-92b3-9752417cb12f"
      },
      "outputs": [],
      "source": [
        "from fractions import Fraction\n",
        "\n",
        "def p(E,Omega):\n",
        "    p = Fraction(len(E),len(Omega))\n",
        "    return p"
      ]
    },
    {
      "cell_type": "code",
      "execution_count": 10,
      "id": "a78c395c-e87e-43da-83b1-ff947082d4f6",
      "metadata": {
        "id": "a78c395c-e87e-43da-83b1-ff947082d4f6",
        "outputId": "9670f01b-ce71-46fa-e631-f5507e485a57",
        "colab": {
          "base_uri": "https://localhost:8080/"
        }
      },
      "outputs": [
        {
          "output_type": "execute_result",
          "data": {
            "text/plain": [
              "Fraction(1, 8)"
            ]
          },
          "metadata": {},
          "execution_count": 10
        }
      ],
      "source": [
        "prob = p(A,Omega)\n",
        "prob"
      ]
    },
    {
      "cell_type": "markdown",
      "id": "74866fd8-1b0b-46bc-bd2b-f2ad88365b6c",
      "metadata": {
        "id": "74866fd8-1b0b-46bc-bd2b-f2ad88365b6c"
      },
      "source": [
        "# 2. Probabilidad condicional\n",
        "\n",
        "Definimos la probabilidad de que ocurra un evento $A$ sabiendo que ocurre el evento $B$,\n",
        "$$ \\mathbb{P}(A \\mid B) = \\frac{\\mathbb{P}(A \\cap B)}{\\mathbb{P}(B)} = \\frac{\\# A\\cap B}{\\#B} $$\n",
        "donde $\\mathbb{P}(B)>0$."
      ]
    },
    {
      "cell_type": "code",
      "execution_count": 32,
      "id": "beb84aa0-c61b-42fe-8046-c213d18e74e0",
      "metadata": {
        "id": "beb84aa0-c61b-42fe-8046-c213d18e74e0"
      },
      "outputs": [],
      "source": [
        "def prob_cond(E,F):\n",
        "    return len(E & F) / len(F)"
      ]
    },
    {
      "cell_type": "markdown",
      "id": "7c3e9e27-5620-41f0-b0b2-1d79c6da385b",
      "metadata": {
        "id": "7c3e9e27-5620-41f0-b0b2-1d79c6da385b"
      },
      "source": [
        "Quiero calcular la probabilidad condicional de los siguientes eventos:\n",
        "* El primer lanzamiento es águila\n",
        "* Dos de los resultados son águila"
      ]
    },
    {
      "cell_type": "code",
      "execution_count": 33,
      "id": "ce4ef43c-74ec-4c2a-b485-ae4a1553e189",
      "metadata": {
        "id": "ce4ef43c-74ec-4c2a-b485-ae4a1553e189",
        "outputId": "404fdc78-89d1-428a-b0ed-61e1e6a0fd98",
        "colab": {
          "base_uri": "https://localhost:8080/"
        }
      },
      "outputs": [
        {
          "output_type": "execute_result",
          "data": {
            "text/plain": [
              "{('A', 'A', 'A'), ('A', 'A', 'S'), ('A', 'S', 'A'), ('A', 'S', 'S')}"
            ]
          },
          "metadata": {},
          "execution_count": 33
        }
      ],
      "source": [
        "# El primer lanzamiento es águila\n",
        "B = { om for om in Omega if om[0]==\"A\"} # el primer lanzamiento es águila\n",
        "B"
      ]
    },
    {
      "cell_type": "code",
      "execution_count": 34,
      "id": "9a4bb72c-b3fc-44a8-9de4-9f8922ea4863",
      "metadata": {
        "id": "9a4bb72c-b3fc-44a8-9de4-9f8922ea4863",
        "outputId": "a980ddcd-a788-4053-9a0a-8cb3cf9c370d",
        "colab": {
          "base_uri": "https://localhost:8080/"
        }
      },
      "outputs": [
        {
          "output_type": "execute_result",
          "data": {
            "text/plain": [
              "{('A', 'A', 'S'), ('A', 'S', 'A'), ('S', 'A', 'A')}"
            ]
          },
          "metadata": {},
          "execution_count": 34
        }
      ],
      "source": [
        "C = { om for om in Omega if om.count(\"A\")==2}\n",
        "C"
      ]
    },
    {
      "cell_type": "code",
      "execution_count": 35,
      "id": "79783de8-4996-47ca-8c7b-998cc0a3cb0b",
      "metadata": {
        "id": "79783de8-4996-47ca-8c7b-998cc0a3cb0b"
      },
      "outputs": [],
      "source": [
        "def prob(E):\n",
        "    return len(E) / len(Omega)"
      ]
    },
    {
      "cell_type": "code",
      "execution_count": 36,
      "id": "caa6fda2-baf4-490d-96fe-e7be23ae77dd",
      "metadata": {
        "id": "caa6fda2-baf4-490d-96fe-e7be23ae77dd",
        "outputId": "12d21611-d035-4a99-ef7f-400d17e0057e",
        "colab": {
          "base_uri": "https://localhost:8080/"
        }
      },
      "outputs": [
        {
          "output_type": "execute_result",
          "data": {
            "text/plain": [
              "0.5"
            ]
          },
          "metadata": {},
          "execution_count": 36
        }
      ],
      "source": [
        "prob(B)"
      ]
    },
    {
      "cell_type": "code",
      "execution_count": 37,
      "id": "497b8715-04b0-42ba-8f3a-5fdeb0d553d2",
      "metadata": {
        "id": "497b8715-04b0-42ba-8f3a-5fdeb0d553d2",
        "outputId": "fe9224ce-1ad5-4102-e87f-073e7eb59613",
        "colab": {
          "base_uri": "https://localhost:8080/"
        }
      },
      "outputs": [
        {
          "output_type": "execute_result",
          "data": {
            "text/plain": [
              "0.375"
            ]
          },
          "metadata": {},
          "execution_count": 37
        }
      ],
      "source": [
        "prob(C)"
      ]
    },
    {
      "cell_type": "code",
      "execution_count": 38,
      "id": "397f3acb-4b48-4474-bc5e-04803d6399f3",
      "metadata": {
        "id": "397f3acb-4b48-4474-bc5e-04803d6399f3",
        "outputId": "55a9f885-747d-4f5f-850d-4932b034e4f9",
        "colab": {
          "base_uri": "https://localhost:8080/"
        }
      },
      "outputs": [
        {
          "output_type": "execute_result",
          "data": {
            "text/plain": [
              "0.6666666666666666"
            ]
          },
          "metadata": {},
          "execution_count": 38
        }
      ],
      "source": [
        "prob_cond(B,C)"
      ]
    },
    {
      "cell_type": "markdown",
      "id": "70210fb0-52c2-43f4-8307-4a361afaec1d",
      "metadata": {
        "id": "70210fb0-52c2-43f4-8307-4a361afaec1d"
      },
      "source": [
        "## Independencia de eventos\n",
        "\n",
        "Decimos que dos eventos $A$ y $B$ son independientes si\n",
        "$$ \\mathbb{P}(A\\cap B) = \\mathbb{P}(A)\\mathbb{P}(B)$$\n",
        "o de manera equivalente\n",
        "$$ \\mathbb{P}(A | B ) = \\mathbb{P}(A) $$"
      ]
    },
    {
      "cell_type": "code",
      "execution_count": 39,
      "id": "c93e040a-a312-4282-88e3-e40b83fc5b73",
      "metadata": {
        "id": "c93e040a-a312-4282-88e3-e40b83fc5b73"
      },
      "outputs": [],
      "source": [
        "def indep(E,F):\n",
        "    return prob(E & F) == prob(E)*prob(F)"
      ]
    },
    {
      "cell_type": "code",
      "execution_count": 40,
      "id": "a6f68f77-d64b-41ef-b0c1-0972170e5c53",
      "metadata": {
        "id": "a6f68f77-d64b-41ef-b0c1-0972170e5c53",
        "outputId": "bca4eddd-96f8-4a58-f25b-3d017bb9216c",
        "colab": {
          "base_uri": "https://localhost:8080/"
        }
      },
      "outputs": [
        {
          "output_type": "execute_result",
          "data": {
            "text/plain": [
              "False"
            ]
          },
          "metadata": {},
          "execution_count": 40
        }
      ],
      "source": [
        "indep(B,C)"
      ]
    },
    {
      "cell_type": "markdown",
      "id": "7b7eb4fe-0c7e-49ab-b6c1-172921670c3e",
      "metadata": {
        "id": "7b7eb4fe-0c7e-49ab-b6c1-172921670c3e"
      },
      "source": [
        "Vamos a considerar el evento:\n",
        "* $D$: en el segundo lanzamiento es sol"
      ]
    },
    {
      "cell_type": "code",
      "execution_count": 41,
      "id": "9dec2962-4089-4f30-b590-7016b18554b2",
      "metadata": {
        "id": "9dec2962-4089-4f30-b590-7016b18554b2",
        "outputId": "4da976aa-6e90-4cc7-c610-e96121b49d79",
        "colab": {
          "base_uri": "https://localhost:8080/"
        }
      },
      "outputs": [
        {
          "output_type": "execute_result",
          "data": {
            "text/plain": [
              "{('A', 'S', 'A'), ('A', 'S', 'S'), ('S', 'S', 'A'), ('S', 'S', 'S')}"
            ]
          },
          "metadata": {},
          "execution_count": 41
        }
      ],
      "source": [
        "D = { om for om in Omega if om[1]==\"S\"}\n",
        "D"
      ]
    },
    {
      "cell_type": "code",
      "execution_count": 42,
      "id": "0926a76f-9b09-4ab8-9f77-df2b1b199729",
      "metadata": {
        "id": "0926a76f-9b09-4ab8-9f77-df2b1b199729",
        "outputId": "d4da03e8-a1d0-42b5-be87-e49b1d62cf78",
        "colab": {
          "base_uri": "https://localhost:8080/"
        }
      },
      "outputs": [
        {
          "output_type": "execute_result",
          "data": {
            "text/plain": [
              "0.5"
            ]
          },
          "metadata": {},
          "execution_count": 42
        }
      ],
      "source": [
        "prob(D)"
      ]
    },
    {
      "cell_type": "code",
      "execution_count": 43,
      "id": "6d286f4c-53dc-42c7-ae18-876b2a4e8598",
      "metadata": {
        "id": "6d286f4c-53dc-42c7-ae18-876b2a4e8598",
        "outputId": "fb17d540-c007-45c6-9623-85e06ce60bb8",
        "colab": {
          "base_uri": "https://localhost:8080/"
        }
      },
      "outputs": [
        {
          "output_type": "execute_result",
          "data": {
            "text/plain": [
              "0.5"
            ]
          },
          "metadata": {},
          "execution_count": 43
        }
      ],
      "source": [
        "prob_cond(B,D)"
      ]
    },
    {
      "cell_type": "code",
      "execution_count": 44,
      "id": "ae753237-681d-4814-a52c-c6e144aeff23",
      "metadata": {
        "id": "ae753237-681d-4814-a52c-c6e144aeff23",
        "outputId": "17f918a7-edc1-41ec-ca56-89b503bd0c55",
        "colab": {
          "base_uri": "https://localhost:8080/"
        }
      },
      "outputs": [
        {
          "output_type": "execute_result",
          "data": {
            "text/plain": [
              "True"
            ]
          },
          "metadata": {},
          "execution_count": 44
        }
      ],
      "source": [
        "indep(B,D)"
      ]
    },
    {
      "cell_type": "markdown",
      "id": "2e825327-e276-41ab-8060-74ea018b2795",
      "metadata": {
        "id": "2e825327-e276-41ab-8060-74ea018b2795"
      },
      "source": [
        "Quiero verificar si $B$, $C$ y $D$ son independientes:"
      ]
    },
    {
      "cell_type": "code",
      "execution_count": 45,
      "id": "a6e1cd15-f8a0-4e65-a702-b193465a6d46",
      "metadata": {
        "id": "a6e1cd15-f8a0-4e65-a702-b193465a6d46",
        "outputId": "b3b72584-78a3-4efe-96ec-a6f866a29e10",
        "colab": {
          "base_uri": "https://localhost:8080/"
        }
      },
      "outputs": [
        {
          "output_type": "execute_result",
          "data": {
            "text/plain": [
              "True"
            ]
          },
          "metadata": {},
          "execution_count": 45
        }
      ],
      "source": [
        "indep(B,D)"
      ]
    },
    {
      "cell_type": "code",
      "execution_count": 46,
      "id": "932765f3-9213-4bd0-8a9e-2297a1930cdb",
      "metadata": {
        "id": "932765f3-9213-4bd0-8a9e-2297a1930cdb",
        "outputId": "33ce74d6-b3bc-4e36-f413-616ea3f551e8",
        "colab": {
          "base_uri": "https://localhost:8080/"
        }
      },
      "outputs": [
        {
          "output_type": "execute_result",
          "data": {
            "text/plain": [
              "False"
            ]
          },
          "metadata": {},
          "execution_count": 46
        }
      ],
      "source": [
        "indep(C,D)"
      ]
    },
    {
      "cell_type": "code",
      "execution_count": 47,
      "id": "9ce5f203-98f5-4f7d-9ab1-e3b7ecf4321c",
      "metadata": {
        "id": "9ce5f203-98f5-4f7d-9ab1-e3b7ecf4321c",
        "outputId": "f56c6a48-b28e-4284-c772-54d850c6fb2c",
        "colab": {
          "base_uri": "https://localhost:8080/"
        }
      },
      "outputs": [
        {
          "output_type": "execute_result",
          "data": {
            "text/plain": [
              "False"
            ]
          },
          "metadata": {},
          "execution_count": 47
        }
      ],
      "source": [
        "indep(B,C)"
      ]
    },
    {
      "cell_type": "markdown",
      "id": "9924a382-4b17-4c26-a35f-ad057f797f3d",
      "metadata": {
        "id": "9924a382-4b17-4c26-a35f-ad057f797f3d"
      },
      "source": [
        "Por lo tanto, los eventos no son independientes."
      ]
    },
    {
      "cell_type": "markdown",
      "id": "b668990b-e924-412f-b5e4-4ef27e5b2072",
      "metadata": {
        "id": "b668990b-e924-412f-b5e4-4ef27e5b2072"
      },
      "source": [
        "**EJEMPLO** Sea el experimento aleatorio de lanzar un dado dos veces. Sabemos que el espacio muestral es el siguiente:\n",
        "$$ \\Omega = \\{ (i,j) | i,j \\in \\{1,2,3,4,5,6 \\} \\} = \\{1,2,3,4,5,6 \\} \\times \\{1,2,3,4,5,6 \\} = \\{1,2,3,4,5,6 \\}^2$$\n",
        "y además $\\#\\Omega = 6^2 = 36$"
      ]
    },
    {
      "cell_type": "code",
      "execution_count": 48,
      "id": "800de47d-67c1-427b-b04e-50a7a6cdf251",
      "metadata": {
        "id": "800de47d-67c1-427b-b04e-50a7a6cdf251",
        "outputId": "ee8dcb28-2150-47c2-a3ca-c922c116bdbf",
        "colab": {
          "base_uri": "https://localhost:8080/"
        }
      },
      "outputs": [
        {
          "output_type": "execute_result",
          "data": {
            "text/plain": [
              "{(1, 1),\n",
              " (1, 2),\n",
              " (1, 3),\n",
              " (1, 4),\n",
              " (1, 5),\n",
              " (1, 6),\n",
              " (2, 1),\n",
              " (2, 2),\n",
              " (2, 3),\n",
              " (2, 4),\n",
              " (2, 5),\n",
              " (2, 6),\n",
              " (3, 1),\n",
              " (3, 2),\n",
              " (3, 3),\n",
              " (3, 4),\n",
              " (3, 5),\n",
              " (3, 6),\n",
              " (4, 1),\n",
              " (4, 2),\n",
              " (4, 3),\n",
              " (4, 4),\n",
              " (4, 5),\n",
              " (4, 6),\n",
              " (5, 1),\n",
              " (5, 2),\n",
              " (5, 3),\n",
              " (5, 4),\n",
              " (5, 5),\n",
              " (5, 6),\n",
              " (6, 1),\n",
              " (6, 2),\n",
              " (6, 3),\n",
              " (6, 4),\n",
              " (6, 5),\n",
              " (6, 6)}"
            ]
          },
          "metadata": {},
          "execution_count": 48
        }
      ],
      "source": [
        "Omega_dado =  set( product([1,2,3,4,5,6],repeat=2 ))\n",
        "Omega_dado"
      ]
    },
    {
      "cell_type": "code",
      "execution_count": 49,
      "id": "09d06f20-69ba-4d30-b2ad-1312f40ca58e",
      "metadata": {
        "id": "09d06f20-69ba-4d30-b2ad-1312f40ca58e",
        "outputId": "dbc28c52-9380-40bf-8927-0a69628d080f",
        "colab": {
          "base_uri": "https://localhost:8080/"
        }
      },
      "outputs": [
        {
          "output_type": "execute_result",
          "data": {
            "text/plain": [
              "36"
            ]
          },
          "metadata": {},
          "execution_count": 49
        }
      ],
      "source": [
        "cardOm = len(Omega_dado)\n",
        "cardOm"
      ]
    },
    {
      "cell_type": "markdown",
      "id": "ae1e04c1-6e96-4770-b6fd-aff5822b3702",
      "metadata": {
        "id": "ae1e04c1-6e96-4770-b6fd-aff5822b3702"
      },
      "source": [
        "Definimos el evento:\n",
        "* $S_n$: la suma de los dados en $n$\n",
        "y escrito como conjunto es\n",
        "$$ S_n = \\{ (i,j)\\in\\Omega \\mid i+j = n \\}$$"
      ]
    },
    {
      "cell_type": "code",
      "execution_count": 50,
      "id": "6814536b-69ab-4bac-bb1a-437a447aa93f",
      "metadata": {
        "id": "6814536b-69ab-4bac-bb1a-437a447aa93f"
      },
      "outputs": [],
      "source": [
        "def S(n):\n",
        "    Sn = { (i,j) for i in range(1,7) for j in range(1,7) if i+j == n }\n",
        "    return Sn"
      ]
    },
    {
      "cell_type": "code",
      "execution_count": 51,
      "id": "9cbbef8a-f404-4755-b9a6-262817a5f297",
      "metadata": {
        "id": "9cbbef8a-f404-4755-b9a6-262817a5f297",
        "colab": {
          "base_uri": "https://localhost:8080/"
        },
        "outputId": "a40a85ad-c1e3-4dd2-c5e0-0aafc006b535"
      },
      "outputs": [
        {
          "output_type": "execute_result",
          "data": {
            "text/plain": [
              "{(3, 6), (4, 5), (5, 4), (6, 3)}"
            ]
          },
          "metadata": {},
          "execution_count": 51
        }
      ],
      "source": [
        "S_nueve = S(9)\n",
        "S_nueve\n"
      ]
    },
    {
      "cell_type": "code",
      "execution_count": 52,
      "id": "f91b63ec-143f-4655-9b25-4f8e80d8217f",
      "metadata": {
        "id": "f91b63ec-143f-4655-9b25-4f8e80d8217f",
        "outputId": "26ceddb4-7302-4d16-d2ef-eaaef9b619d6",
        "colab": {
          "base_uri": "https://localhost:8080/"
        }
      },
      "outputs": [
        {
          "output_type": "execute_result",
          "data": {
            "text/plain": [
              "0.1111111111111111"
            ]
          },
          "metadata": {},
          "execution_count": 52
        }
      ],
      "source": [
        "len(S_nueve) / cardOm"
      ]
    },
    {
      "cell_type": "markdown",
      "id": "943998ac-1712-43b9-bc2e-697a6b4d5ba2",
      "metadata": {
        "id": "943998ac-1712-43b9-bc2e-697a6b4d5ba2"
      },
      "source": [
        "$$ \\mathbb{P}(S(9)) = 4/36 $$"
      ]
    },
    {
      "cell_type": "markdown",
      "metadata": {
        "id": "eac0817b-99a2-4d8b-b66c-aecd25f6bf01"
      },
      "source": [
        "# 3. El espacio muestral asociado a un experimento aleatorio\n",
        "\n",
        "El espacio muestral $\\Omega$ del experimento aleatorio de lanzar dos dados honestos, esta compuesto por todas las pearejas ordenadas $(i,j)$ tales que $1 \\leq i,j \\leq 6$\n",
        "\n",
        "$$\\Omega = \\{ (i,j) \\mid 1 \\leq i,j \\leq 6 \\} $$\n",
        "y sabemos que $\\#\\Omega = 6^2 = 36$"
      ],
      "id": "eac0817b-99a2-4d8b-b66c-aecd25f6bf01"
    },
    {
      "cell_type": "code",
      "execution_count": 53,
      "metadata": {
        "id": "605e576e-0bcd-438f-9dc3-5b2b330fb6c1"
      },
      "outputs": [],
      "source": [
        "#usamos itertools\n",
        "from itertools import product"
      ],
      "id": "605e576e-0bcd-438f-9dc3-5b2b330fb6c1"
    },
    {
      "cell_type": "code",
      "execution_count": 54,
      "metadata": {
        "id": "f372a0cc-48c1-4f5f-b659-8c3453645567",
        "outputId": "4c59a9e8-21a5-42fc-db8c-51d11a3af0f1",
        "colab": {
          "base_uri": "https://localhost:8080/"
        }
      },
      "outputs": [
        {
          "output_type": "execute_result",
          "data": {
            "text/plain": [
              "{(1, 1),\n",
              " (1, 2),\n",
              " (1, 3),\n",
              " (1, 4),\n",
              " (1, 5),\n",
              " (1, 6),\n",
              " (2, 1),\n",
              " (2, 2),\n",
              " (2, 3),\n",
              " (2, 4),\n",
              " (2, 5),\n",
              " (2, 6),\n",
              " (3, 1),\n",
              " (3, 2),\n",
              " (3, 3),\n",
              " (3, 4),\n",
              " (3, 5),\n",
              " (3, 6),\n",
              " (4, 1),\n",
              " (4, 2),\n",
              " (4, 3),\n",
              " (4, 4),\n",
              " (4, 5),\n",
              " (4, 6),\n",
              " (5, 1),\n",
              " (5, 2),\n",
              " (5, 3),\n",
              " (5, 4),\n",
              " (5, 5),\n",
              " (5, 6),\n",
              " (6, 1),\n",
              " (6, 2),\n",
              " (6, 3),\n",
              " (6, 4),\n",
              " (6, 5),\n",
              " (6, 6)}"
            ]
          },
          "metadata": {},
          "execution_count": 54
        }
      ],
      "source": [
        "Omega = set(product([1,2,3,4,5,6], repeat = 2))\n",
        "Omega"
      ],
      "id": "f372a0cc-48c1-4f5f-b659-8c3453645567"
    },
    {
      "cell_type": "code",
      "execution_count": 55,
      "metadata": {
        "id": "d42a89f8-ac13-4958-b45d-05ddfe70b91d",
        "outputId": "d0726cbf-2b60-431e-9a20-052084b70c11",
        "colab": {
          "base_uri": "https://localhost:8080/"
        }
      },
      "outputs": [
        {
          "output_type": "execute_result",
          "data": {
            "text/plain": [
              "36"
            ]
          },
          "metadata": {},
          "execution_count": 55
        }
      ],
      "source": [
        "card_Omega = len(Omega)\n",
        "card_Omega"
      ],
      "id": "d42a89f8-ac13-4958-b45d-05ddfe70b91d"
    },
    {
      "cell_type": "markdown",
      "metadata": {
        "id": "dd5b767e-a8d1-4657-967c-729e10472c29"
      },
      "source": [
        "Sea $S_n$ el evento \"La suma de los dados en $n$\". Esto es:\n",
        "$$S_n=\\{(i,j)\\in\\Omega:i+j=n\\}.$$"
      ],
      "id": "dd5b767e-a8d1-4657-967c-729e10472c29"
    },
    {
      "cell_type": "code",
      "execution_count": 56,
      "metadata": {
        "id": "7ce1796d-1b99-47a1-b69a-0938bfba0186"
      },
      "outputs": [],
      "source": [
        "def S(n):\n",
        "    Sn = {(i,j) for i in range(1,7) for j in range(1,7) if i+j==n}\n",
        "    return Sn"
      ],
      "id": "7ce1796d-1b99-47a1-b69a-0938bfba0186"
    },
    {
      "cell_type": "code",
      "execution_count": 57,
      "metadata": {
        "id": "0c9eb718-5718-4e1a-9469-b27ef123e20a",
        "outputId": "b191d0f2-2ae5-424a-83b3-f0d9c81d75b5",
        "colab": {
          "base_uri": "https://localhost:8080/"
        }
      },
      "outputs": [
        {
          "output_type": "stream",
          "name": "stdout",
          "text": [
            "{(6, 3), (4, 5), (5, 4), (3, 6)}\n"
          ]
        }
      ],
      "source": [
        "print(S(9))"
      ],
      "id": "0c9eb718-5718-4e1a-9469-b27ef123e20a"
    },
    {
      "cell_type": "code",
      "execution_count": 58,
      "metadata": {
        "id": "207cc4f2-722b-4454-af9a-0c1da65bd909",
        "outputId": "63bab396-ef53-44d4-fac3-ed88aa338e44",
        "colab": {
          "base_uri": "https://localhost:8080/"
        }
      },
      "outputs": [
        {
          "output_type": "stream",
          "name": "stdout",
          "text": [
            "{(6, 6)}\n"
          ]
        }
      ],
      "source": [
        "print(S(12))"
      ],
      "id": "207cc4f2-722b-4454-af9a-0c1da65bd909"
    },
    {
      "cell_type": "markdown",
      "metadata": {
        "id": "582ec410-e131-4517-8194-fa05b860cc9b"
      },
      "source": [
        "# 4. La variable aleatoria asociada a $S_n$"
      ],
      "id": "582ec410-e131-4517-8194-fa05b860cc9b"
    },
    {
      "cell_type": "code",
      "execution_count": 59,
      "metadata": {
        "id": "6f4cda2e-9bf7-46e4-8986-dd0eb34cd62b"
      },
      "outputs": [],
      "source": [
        "# Definir la funcion P(A)\n",
        "# Es la probabilidad del evento A definida mediante la definición clásica\n",
        "\n",
        "def P(A):\n",
        "    P = Fraction(len(A), len(Omega))\n",
        "    return P"
      ],
      "id": "6f4cda2e-9bf7-46e4-8986-dd0eb34cd62b"
    },
    {
      "cell_type": "code",
      "execution_count": 60,
      "metadata": {
        "id": "4b8163c6-fb8a-4c5d-ad48-d7e3b1876ff5"
      },
      "outputs": [],
      "source": [
        "# Vamos a definir un diccionario S\n",
        "# (i,j) pares ordenados y los valores de su suma\n",
        "\n",
        "S = {(i,j) : i+j for i,j in Omega}"
      ],
      "id": "4b8163c6-fb8a-4c5d-ad48-d7e3b1876ff5"
    },
    {
      "cell_type": "code",
      "execution_count": 61,
      "metadata": {
        "id": "15653b7a-e954-403c-98c3-ed6f69713c8c"
      },
      "outputs": [],
      "source": [
        "# Agrupación de combinaciones por suma\n",
        "\n",
        "from collections import defaultdict\n",
        "\n",
        "dS = defaultdict(set)"
      ],
      "id": "15653b7a-e954-403c-98c3-ed6f69713c8c"
    },
    {
      "cell_type": "code",
      "execution_count": 62,
      "metadata": {
        "id": "3da0cf51-e514-48ba-9169-48bb680aaca7"
      },
      "outputs": [],
      "source": [
        "# Vamos a recorrer sobre los elementos en S\n",
        "\n",
        "for i,j in S.items():\n",
        "\n",
        "    dS[j].add(i)"
      ],
      "id": "3da0cf51-e514-48ba-9169-48bb680aaca7"
    },
    {
      "cell_type": "code",
      "execution_count": 63,
      "metadata": {
        "id": "7cdbc974-10be-41a5-88d9-ce9f4f88407e",
        "outputId": "fabe3c20-ea2d-4d28-d602-fb3c8dec9553",
        "colab": {
          "base_uri": "https://localhost:8080/"
        }
      },
      "outputs": [
        {
          "output_type": "execute_result",
          "data": {
            "text/plain": [
              "[(7, {(1, 6), (2, 5), (3, 4), (4, 3), (5, 2), (6, 1)}),\n",
              " (4, {(1, 3), (2, 2), (3, 1)}),\n",
              " (9, {(3, 6), (4, 5), (5, 4), (6, 3)}),\n",
              " (10, {(4, 6), (5, 5), (6, 4)}),\n",
              " (6, {(1, 5), (2, 4), (3, 3), (4, 2), (5, 1)}),\n",
              " (8, {(2, 6), (3, 5), (4, 4), (5, 3), (6, 2)}),\n",
              " (11, {(5, 6), (6, 5)}),\n",
              " (3, {(1, 2), (2, 1)}),\n",
              " (5, {(1, 4), (2, 3), (3, 2), (4, 1)}),\n",
              " (2, {(1, 1)}),\n",
              " (12, {(6, 6)})]"
            ]
          },
          "metadata": {},
          "execution_count": 63
        }
      ],
      "source": [
        "list(dS.items())"
      ],
      "id": "7cdbc974-10be-41a5-88d9-ce9f4f88407e"
    },
    {
      "cell_type": "code",
      "execution_count": 64,
      "metadata": {
        "id": "a96de60e-d38b-4bd2-b981-b58810d55711",
        "outputId": "b23d72b5-d6b1-409b-fe5f-3233e4d768ea",
        "colab": {
          "base_uri": "https://localhost:8080/"
        }
      },
      "outputs": [
        {
          "output_type": "execute_result",
          "data": {
            "text/plain": [
              "{7: Fraction(1, 6),\n",
              " 4: Fraction(1, 12),\n",
              " 9: Fraction(1, 9),\n",
              " 10: Fraction(1, 12),\n",
              " 6: Fraction(5, 36),\n",
              " 8: Fraction(5, 36),\n",
              " 11: Fraction(1, 18),\n",
              " 3: Fraction(1, 18),\n",
              " 5: Fraction(1, 9),\n",
              " 2: Fraction(1, 36),\n",
              " 12: Fraction(1, 36)}"
            ]
          },
          "metadata": {},
          "execution_count": 64
        }
      ],
      "source": [
        "# LeyS almacenar la probabilidad de casa posible suma,\n",
        "# Usando la función P(A)\n",
        "# En otras palabras \"la función de densidad\"\n",
        "# A es el conjunto de pares que producden la suma i\n",
        "\n",
        "leyS = {i : P(A) for i, A in dS.items() }\n",
        "leyS"
      ],
      "id": "a96de60e-d38b-4bd2-b981-b58810d55711"
    },
    {
      "cell_type": "code",
      "execution_count": 65,
      "metadata": {
        "id": "49e50586-ddf4-47fd-ae8f-a98bf3e23388"
      },
      "outputs": [],
      "source": [
        "# Importamos la libreria Pandas\n",
        "\n",
        "import pandas as pd"
      ],
      "id": "49e50586-ddf4-47fd-ae8f-a98bf3e23388"
    },
    {
      "cell_type": "markdown",
      "metadata": {
        "id": "178a3e3c-7d80-43d2-ac9f-460010c10061"
      },
      "source": [
        "Recordemos que una variable aleatoria real $X$, es una función\n",
        "$$X : \\Omega \\to \\mathbb{R}$$\n",
        "\n",
        "Sabemos que la función de densidad de una v.a. discreta $X$, se define como sigue:\n",
        "$$ f_X(x) = \\begin{cases} \\mathbb{P}(X=x), \\quad \\text{si } x\\in R_{X} \\\\ 0, \\quad \\text{e.o.c} \\end{cases} $$\n",
        "donde $R_X$ es el rango de la v.a. $X$."
      ],
      "id": "178a3e3c-7d80-43d2-ac9f-460010c10061"
    },
    {
      "cell_type": "markdown",
      "metadata": {
        "id": "829af794-2b0b-4c39-98b0-9db56e70bd88"
      },
      "source": [
        "Para nuestro evento $S_n$, se tiene la siguiente variable aleatoria\n",
        "$$ S : \\Omega \\to \\{2,3,4,5,6,7,8,9,10,11,12\\}$$"
      ],
      "id": "829af794-2b0b-4c39-98b0-9db56e70bd88"
    },
    {
      "cell_type": "code",
      "execution_count": 66,
      "metadata": {
        "id": "e95bfd6b-300d-437a-b988-fa8f0d10227f",
        "outputId": "f35247c1-649f-4ac6-ec26-a1a0510886d4",
        "colab": {
          "base_uri": "https://localhost:8080/",
          "height": 0
        }
      },
      "outputs": [
        {
          "output_type": "execute_result",
          "data": {
            "text/plain": [
              "2     1/36\n",
              "3     1/18\n",
              "4     1/12\n",
              "5      1/9\n",
              "6     5/36\n",
              "7      1/6\n",
              "8     5/36\n",
              "9      1/9\n",
              "10    1/12\n",
              "11    1/18\n",
              "12    1/36\n",
              "dtype: object"
            ],
            "text/html": [
              "<div>\n",
              "<style scoped>\n",
              "    .dataframe tbody tr th:only-of-type {\n",
              "        vertical-align: middle;\n",
              "    }\n",
              "\n",
              "    .dataframe tbody tr th {\n",
              "        vertical-align: top;\n",
              "    }\n",
              "\n",
              "    .dataframe thead th {\n",
              "        text-align: right;\n",
              "    }\n",
              "</style>\n",
              "<table border=\"1\" class=\"dataframe\">\n",
              "  <thead>\n",
              "    <tr style=\"text-align: right;\">\n",
              "      <th></th>\n",
              "      <th>0</th>\n",
              "    </tr>\n",
              "  </thead>\n",
              "  <tbody>\n",
              "    <tr>\n",
              "      <th>2</th>\n",
              "      <td>1/36</td>\n",
              "    </tr>\n",
              "    <tr>\n",
              "      <th>3</th>\n",
              "      <td>1/18</td>\n",
              "    </tr>\n",
              "    <tr>\n",
              "      <th>4</th>\n",
              "      <td>1/12</td>\n",
              "    </tr>\n",
              "    <tr>\n",
              "      <th>5</th>\n",
              "      <td>1/9</td>\n",
              "    </tr>\n",
              "    <tr>\n",
              "      <th>6</th>\n",
              "      <td>5/36</td>\n",
              "    </tr>\n",
              "    <tr>\n",
              "      <th>7</th>\n",
              "      <td>1/6</td>\n",
              "    </tr>\n",
              "    <tr>\n",
              "      <th>8</th>\n",
              "      <td>5/36</td>\n",
              "    </tr>\n",
              "    <tr>\n",
              "      <th>9</th>\n",
              "      <td>1/9</td>\n",
              "    </tr>\n",
              "    <tr>\n",
              "      <th>10</th>\n",
              "      <td>1/12</td>\n",
              "    </tr>\n",
              "    <tr>\n",
              "      <th>11</th>\n",
              "      <td>1/18</td>\n",
              "    </tr>\n",
              "    <tr>\n",
              "      <th>12</th>\n",
              "      <td>1/36</td>\n",
              "    </tr>\n",
              "  </tbody>\n",
              "</table>\n",
              "</div><br><label><b>dtype:</b> object</label>"
            ]
          },
          "metadata": {},
          "execution_count": 66
        }
      ],
      "source": [
        "# Vamos a crear una serie\n",
        "\n",
        "ley_S = pd.Series(leyS)\n",
        "ley_S.sort_index() #ordenar"
      ],
      "id": "e95bfd6b-300d-437a-b988-fa8f0d10227f"
    },
    {
      "cell_type": "code",
      "execution_count": 67,
      "metadata": {
        "id": "b8f2df51-f0a1-4056-8bc6-57842b3aeee1"
      },
      "outputs": [],
      "source": [
        "import numpy as np # Importar la liberia"
      ],
      "id": "b8f2df51-f0a1-4056-8bc6-57842b3aeee1"
    },
    {
      "cell_type": "code",
      "execution_count": 68,
      "metadata": {
        "id": "51435f3f-430d-4382-966a-549884d2320e"
      },
      "outputs": [],
      "source": [
        "# LeyS(i) devuelve la probabilidad de obtener la suma i, si está en el rango de posibles sumas\n",
        "\n",
        "def leyS(i):\n",
        "    if i in range(2,13):\n",
        "        x = ley_S[i]\n",
        "    else:\n",
        "        x = 0 # si no está en el rango me devuelve cero\n",
        "    return x"
      ],
      "id": "51435f3f-430d-4382-966a-549884d2320e"
    },
    {
      "cell_type": "code",
      "execution_count": 69,
      "metadata": {
        "id": "920e5a3b-73cf-4e6a-9fb8-0cdf95157a1a"
      },
      "outputs": [],
      "source": [
        "# Vamos a crear el rango de S\n",
        "\n",
        "#creo una lista con los posibles valores\n",
        "rango_S = [k for k in range(2,13)]\n",
        "\n",
        "#Obtenemos la probabilidad de cada suma\n",
        "p_k = [float(leyS(k)) for k in rango_S]"
      ],
      "id": "920e5a3b-73cf-4e6a-9fb8-0cdf95157a1a"
    },
    {
      "cell_type": "code",
      "execution_count": 70,
      "metadata": {
        "id": "8953c02c-7bcf-4661-89bf-c4b8207c5f9e",
        "outputId": "219fac91-b47d-45b8-f27a-72af8af30e0c",
        "colab": {
          "base_uri": "https://localhost:8080/",
          "height": 0
        }
      },
      "outputs": [
        {
          "output_type": "execute_result",
          "data": {
            "text/plain": [
              "      rango  densidad\n",
              "S_2       2  0.027778\n",
              "S_3       3  0.055556\n",
              "S_4       4  0.083333\n",
              "S_5       5  0.111111\n",
              "S_6       6  0.138889\n",
              "S_7       7  0.166667\n",
              "S_8       8  0.138889\n",
              "S_9       9  0.111111\n",
              "S_10     10  0.083333\n",
              "S_11     11  0.055556\n",
              "S_12     12  0.027778"
            ],
            "text/html": [
              "\n",
              "  <div id=\"df-95cb29d6-d2e2-47b8-abd0-ef8d82e90787\" class=\"colab-df-container\">\n",
              "    <div>\n",
              "<style scoped>\n",
              "    .dataframe tbody tr th:only-of-type {\n",
              "        vertical-align: middle;\n",
              "    }\n",
              "\n",
              "    .dataframe tbody tr th {\n",
              "        vertical-align: top;\n",
              "    }\n",
              "\n",
              "    .dataframe thead th {\n",
              "        text-align: right;\n",
              "    }\n",
              "</style>\n",
              "<table border=\"1\" class=\"dataframe\">\n",
              "  <thead>\n",
              "    <tr style=\"text-align: right;\">\n",
              "      <th></th>\n",
              "      <th>rango</th>\n",
              "      <th>densidad</th>\n",
              "    </tr>\n",
              "  </thead>\n",
              "  <tbody>\n",
              "    <tr>\n",
              "      <th>S_2</th>\n",
              "      <td>2</td>\n",
              "      <td>0.027778</td>\n",
              "    </tr>\n",
              "    <tr>\n",
              "      <th>S_3</th>\n",
              "      <td>3</td>\n",
              "      <td>0.055556</td>\n",
              "    </tr>\n",
              "    <tr>\n",
              "      <th>S_4</th>\n",
              "      <td>4</td>\n",
              "      <td>0.083333</td>\n",
              "    </tr>\n",
              "    <tr>\n",
              "      <th>S_5</th>\n",
              "      <td>5</td>\n",
              "      <td>0.111111</td>\n",
              "    </tr>\n",
              "    <tr>\n",
              "      <th>S_6</th>\n",
              "      <td>6</td>\n",
              "      <td>0.138889</td>\n",
              "    </tr>\n",
              "    <tr>\n",
              "      <th>S_7</th>\n",
              "      <td>7</td>\n",
              "      <td>0.166667</td>\n",
              "    </tr>\n",
              "    <tr>\n",
              "      <th>S_8</th>\n",
              "      <td>8</td>\n",
              "      <td>0.138889</td>\n",
              "    </tr>\n",
              "    <tr>\n",
              "      <th>S_9</th>\n",
              "      <td>9</td>\n",
              "      <td>0.111111</td>\n",
              "    </tr>\n",
              "    <tr>\n",
              "      <th>S_10</th>\n",
              "      <td>10</td>\n",
              "      <td>0.083333</td>\n",
              "    </tr>\n",
              "    <tr>\n",
              "      <th>S_11</th>\n",
              "      <td>11</td>\n",
              "      <td>0.055556</td>\n",
              "    </tr>\n",
              "    <tr>\n",
              "      <th>S_12</th>\n",
              "      <td>12</td>\n",
              "      <td>0.027778</td>\n",
              "    </tr>\n",
              "  </tbody>\n",
              "</table>\n",
              "</div>\n",
              "    <div class=\"colab-df-buttons\">\n",
              "\n",
              "  <div class=\"colab-df-container\">\n",
              "    <button class=\"colab-df-convert\" onclick=\"convertToInteractive('df-95cb29d6-d2e2-47b8-abd0-ef8d82e90787')\"\n",
              "            title=\"Convert this dataframe to an interactive table.\"\n",
              "            style=\"display:none;\">\n",
              "\n",
              "  <svg xmlns=\"http://www.w3.org/2000/svg\" height=\"24px\" viewBox=\"0 -960 960 960\">\n",
              "    <path d=\"M120-120v-720h720v720H120Zm60-500h600v-160H180v160Zm220 220h160v-160H400v160Zm0 220h160v-160H400v160ZM180-400h160v-160H180v160Zm440 0h160v-160H620v160ZM180-180h160v-160H180v160Zm440 0h160v-160H620v160Z\"/>\n",
              "  </svg>\n",
              "    </button>\n",
              "\n",
              "  <style>\n",
              "    .colab-df-container {\n",
              "      display:flex;\n",
              "      gap: 12px;\n",
              "    }\n",
              "\n",
              "    .colab-df-convert {\n",
              "      background-color: #E8F0FE;\n",
              "      border: none;\n",
              "      border-radius: 50%;\n",
              "      cursor: pointer;\n",
              "      display: none;\n",
              "      fill: #1967D2;\n",
              "      height: 32px;\n",
              "      padding: 0 0 0 0;\n",
              "      width: 32px;\n",
              "    }\n",
              "\n",
              "    .colab-df-convert:hover {\n",
              "      background-color: #E2EBFA;\n",
              "      box-shadow: 0px 1px 2px rgba(60, 64, 67, 0.3), 0px 1px 3px 1px rgba(60, 64, 67, 0.15);\n",
              "      fill: #174EA6;\n",
              "    }\n",
              "\n",
              "    .colab-df-buttons div {\n",
              "      margin-bottom: 4px;\n",
              "    }\n",
              "\n",
              "    [theme=dark] .colab-df-convert {\n",
              "      background-color: #3B4455;\n",
              "      fill: #D2E3FC;\n",
              "    }\n",
              "\n",
              "    [theme=dark] .colab-df-convert:hover {\n",
              "      background-color: #434B5C;\n",
              "      box-shadow: 0px 1px 3px 1px rgba(0, 0, 0, 0.15);\n",
              "      filter: drop-shadow(0px 1px 2px rgba(0, 0, 0, 0.3));\n",
              "      fill: #FFFFFF;\n",
              "    }\n",
              "  </style>\n",
              "\n",
              "    <script>\n",
              "      const buttonEl =\n",
              "        document.querySelector('#df-95cb29d6-d2e2-47b8-abd0-ef8d82e90787 button.colab-df-convert');\n",
              "      buttonEl.style.display =\n",
              "        google.colab.kernel.accessAllowed ? 'block' : 'none';\n",
              "\n",
              "      async function convertToInteractive(key) {\n",
              "        const element = document.querySelector('#df-95cb29d6-d2e2-47b8-abd0-ef8d82e90787');\n",
              "        const dataTable =\n",
              "          await google.colab.kernel.invokeFunction('convertToInteractive',\n",
              "                                                    [key], {});\n",
              "        if (!dataTable) return;\n",
              "\n",
              "        const docLinkHtml = 'Like what you see? Visit the ' +\n",
              "          '<a target=\"_blank\" href=https://colab.research.google.com/notebooks/data_table.ipynb>data table notebook</a>'\n",
              "          + ' to learn more about interactive tables.';\n",
              "        element.innerHTML = '';\n",
              "        dataTable['output_type'] = 'display_data';\n",
              "        await google.colab.output.renderOutput(dataTable, element);\n",
              "        const docLink = document.createElement('div');\n",
              "        docLink.innerHTML = docLinkHtml;\n",
              "        element.appendChild(docLink);\n",
              "      }\n",
              "    </script>\n",
              "  </div>\n",
              "\n",
              "\n",
              "<div id=\"df-f63dc445-2eec-4047-b039-039da97a22ac\">\n",
              "  <button class=\"colab-df-quickchart\" onclick=\"quickchart('df-f63dc445-2eec-4047-b039-039da97a22ac')\"\n",
              "            title=\"Suggest charts\"\n",
              "            style=\"display:none;\">\n",
              "\n",
              "<svg xmlns=\"http://www.w3.org/2000/svg\" height=\"24px\"viewBox=\"0 0 24 24\"\n",
              "     width=\"24px\">\n",
              "    <g>\n",
              "        <path d=\"M19 3H5c-1.1 0-2 .9-2 2v14c0 1.1.9 2 2 2h14c1.1 0 2-.9 2-2V5c0-1.1-.9-2-2-2zM9 17H7v-7h2v7zm4 0h-2V7h2v10zm4 0h-2v-4h2v4z\"/>\n",
              "    </g>\n",
              "</svg>\n",
              "  </button>\n",
              "\n",
              "<style>\n",
              "  .colab-df-quickchart {\n",
              "      --bg-color: #E8F0FE;\n",
              "      --fill-color: #1967D2;\n",
              "      --hover-bg-color: #E2EBFA;\n",
              "      --hover-fill-color: #174EA6;\n",
              "      --disabled-fill-color: #AAA;\n",
              "      --disabled-bg-color: #DDD;\n",
              "  }\n",
              "\n",
              "  [theme=dark] .colab-df-quickchart {\n",
              "      --bg-color: #3B4455;\n",
              "      --fill-color: #D2E3FC;\n",
              "      --hover-bg-color: #434B5C;\n",
              "      --hover-fill-color: #FFFFFF;\n",
              "      --disabled-bg-color: #3B4455;\n",
              "      --disabled-fill-color: #666;\n",
              "  }\n",
              "\n",
              "  .colab-df-quickchart {\n",
              "    background-color: var(--bg-color);\n",
              "    border: none;\n",
              "    border-radius: 50%;\n",
              "    cursor: pointer;\n",
              "    display: none;\n",
              "    fill: var(--fill-color);\n",
              "    height: 32px;\n",
              "    padding: 0;\n",
              "    width: 32px;\n",
              "  }\n",
              "\n",
              "  .colab-df-quickchart:hover {\n",
              "    background-color: var(--hover-bg-color);\n",
              "    box-shadow: 0 1px 2px rgba(60, 64, 67, 0.3), 0 1px 3px 1px rgba(60, 64, 67, 0.15);\n",
              "    fill: var(--button-hover-fill-color);\n",
              "  }\n",
              "\n",
              "  .colab-df-quickchart-complete:disabled,\n",
              "  .colab-df-quickchart-complete:disabled:hover {\n",
              "    background-color: var(--disabled-bg-color);\n",
              "    fill: var(--disabled-fill-color);\n",
              "    box-shadow: none;\n",
              "  }\n",
              "\n",
              "  .colab-df-spinner {\n",
              "    border: 2px solid var(--fill-color);\n",
              "    border-color: transparent;\n",
              "    border-bottom-color: var(--fill-color);\n",
              "    animation:\n",
              "      spin 1s steps(1) infinite;\n",
              "  }\n",
              "\n",
              "  @keyframes spin {\n",
              "    0% {\n",
              "      border-color: transparent;\n",
              "      border-bottom-color: var(--fill-color);\n",
              "      border-left-color: var(--fill-color);\n",
              "    }\n",
              "    20% {\n",
              "      border-color: transparent;\n",
              "      border-left-color: var(--fill-color);\n",
              "      border-top-color: var(--fill-color);\n",
              "    }\n",
              "    30% {\n",
              "      border-color: transparent;\n",
              "      border-left-color: var(--fill-color);\n",
              "      border-top-color: var(--fill-color);\n",
              "      border-right-color: var(--fill-color);\n",
              "    }\n",
              "    40% {\n",
              "      border-color: transparent;\n",
              "      border-right-color: var(--fill-color);\n",
              "      border-top-color: var(--fill-color);\n",
              "    }\n",
              "    60% {\n",
              "      border-color: transparent;\n",
              "      border-right-color: var(--fill-color);\n",
              "    }\n",
              "    80% {\n",
              "      border-color: transparent;\n",
              "      border-right-color: var(--fill-color);\n",
              "      border-bottom-color: var(--fill-color);\n",
              "    }\n",
              "    90% {\n",
              "      border-color: transparent;\n",
              "      border-bottom-color: var(--fill-color);\n",
              "    }\n",
              "  }\n",
              "</style>\n",
              "\n",
              "  <script>\n",
              "    async function quickchart(key) {\n",
              "      const quickchartButtonEl =\n",
              "        document.querySelector('#' + key + ' button');\n",
              "      quickchartButtonEl.disabled = true;  // To prevent multiple clicks.\n",
              "      quickchartButtonEl.classList.add('colab-df-spinner');\n",
              "      try {\n",
              "        const charts = await google.colab.kernel.invokeFunction(\n",
              "            'suggestCharts', [key], {});\n",
              "      } catch (error) {\n",
              "        console.error('Error during call to suggestCharts:', error);\n",
              "      }\n",
              "      quickchartButtonEl.classList.remove('colab-df-spinner');\n",
              "      quickchartButtonEl.classList.add('colab-df-quickchart-complete');\n",
              "    }\n",
              "    (() => {\n",
              "      let quickchartButtonEl =\n",
              "        document.querySelector('#df-f63dc445-2eec-4047-b039-039da97a22ac button');\n",
              "      quickchartButtonEl.style.display =\n",
              "        google.colab.kernel.accessAllowed ? 'block' : 'none';\n",
              "    })();\n",
              "  </script>\n",
              "</div>\n",
              "\n",
              "  <div id=\"id_f42fe0a1-292e-44b5-ba14-7701c094fe11\">\n",
              "    <style>\n",
              "      .colab-df-generate {\n",
              "        background-color: #E8F0FE;\n",
              "        border: none;\n",
              "        border-radius: 50%;\n",
              "        cursor: pointer;\n",
              "        display: none;\n",
              "        fill: #1967D2;\n",
              "        height: 32px;\n",
              "        padding: 0 0 0 0;\n",
              "        width: 32px;\n",
              "      }\n",
              "\n",
              "      .colab-df-generate:hover {\n",
              "        background-color: #E2EBFA;\n",
              "        box-shadow: 0px 1px 2px rgba(60, 64, 67, 0.3), 0px 1px 3px 1px rgba(60, 64, 67, 0.15);\n",
              "        fill: #174EA6;\n",
              "      }\n",
              "\n",
              "      [theme=dark] .colab-df-generate {\n",
              "        background-color: #3B4455;\n",
              "        fill: #D2E3FC;\n",
              "      }\n",
              "\n",
              "      [theme=dark] .colab-df-generate:hover {\n",
              "        background-color: #434B5C;\n",
              "        box-shadow: 0px 1px 3px 1px rgba(0, 0, 0, 0.15);\n",
              "        filter: drop-shadow(0px 1px 2px rgba(0, 0, 0, 0.3));\n",
              "        fill: #FFFFFF;\n",
              "      }\n",
              "    </style>\n",
              "    <button class=\"colab-df-generate\" onclick=\"generateWithVariable('lS')\"\n",
              "            title=\"Generate code using this dataframe.\"\n",
              "            style=\"display:none;\">\n",
              "\n",
              "  <svg xmlns=\"http://www.w3.org/2000/svg\" height=\"24px\"viewBox=\"0 0 24 24\"\n",
              "       width=\"24px\">\n",
              "    <path d=\"M7,19H8.4L18.45,9,17,7.55,7,17.6ZM5,21V16.75L18.45,3.32a2,2,0,0,1,2.83,0l1.4,1.43a1.91,1.91,0,0,1,.58,1.4,1.91,1.91,0,0,1-.58,1.4L9.25,21ZM18.45,9,17,7.55Zm-12,3A5.31,5.31,0,0,0,4.9,8.1,5.31,5.31,0,0,0,1,6.5,5.31,5.31,0,0,0,4.9,4.9,5.31,5.31,0,0,0,6.5,1,5.31,5.31,0,0,0,8.1,4.9,5.31,5.31,0,0,0,12,6.5,5.46,5.46,0,0,0,6.5,12Z\"/>\n",
              "  </svg>\n",
              "    </button>\n",
              "    <script>\n",
              "      (() => {\n",
              "      const buttonEl =\n",
              "        document.querySelector('#id_f42fe0a1-292e-44b5-ba14-7701c094fe11 button.colab-df-generate');\n",
              "      buttonEl.style.display =\n",
              "        google.colab.kernel.accessAllowed ? 'block' : 'none';\n",
              "\n",
              "      buttonEl.onclick = () => {\n",
              "        google.colab.notebook.generateWithVariable('lS');\n",
              "      }\n",
              "      })();\n",
              "    </script>\n",
              "  </div>\n",
              "\n",
              "    </div>\n",
              "  </div>\n"
            ],
            "application/vnd.google.colaboratory.intrinsic+json": {
              "type": "dataframe",
              "variable_name": "lS",
              "summary": "{\n  \"name\": \"lS\",\n  \"rows\": 11,\n  \"fields\": [\n    {\n      \"column\": \"rango\",\n      \"properties\": {\n        \"dtype\": \"number\",\n        \"std\": 3,\n        \"min\": 2,\n        \"max\": 12,\n        \"num_unique_values\": 11,\n        \"samples\": [\n          7,\n          2,\n          11\n        ],\n        \"semantic_type\": \"\",\n        \"description\": \"\"\n      }\n    },\n    {\n      \"column\": \"densidad\",\n      \"properties\": {\n        \"dtype\": \"number\",\n        \"std\": 0.0466317810924732,\n        \"min\": 0.027777777777777776,\n        \"max\": 0.16666666666666666,\n        \"num_unique_values\": 6,\n        \"samples\": [\n          0.027777777777777776,\n          0.05555555555555555,\n          0.16666666666666666\n        ],\n        \"semantic_type\": \"\",\n        \"description\": \"\"\n      }\n    }\n  ]\n}"
            }
          },
          "metadata": {},
          "execution_count": 70
        }
      ],
      "source": [
        "# Creamos un DataFrame con:\n",
        "# - los valores del rango_S\n",
        "# - las probabilidades p_k\n",
        "# Indexamos una etiqueta S_2,...,S_12\n",
        "\n",
        "# zip() -> toma dos listas y las combina en pares ordenados\n",
        "lS = pd.DataFrame(list(zip(rango_S, p_k)), index=[f\"S_{i}\" for i in range(2,13)], columns = ['rango','densidad'])\n",
        "lS"
      ],
      "id": "8953c02c-7bcf-4661-89bf-c4b8207c5f9e"
    },
    {
      "cell_type": "code",
      "execution_count": 71,
      "metadata": {
        "id": "59e96c75-c8d0-403d-b86a-4dca78ca5543",
        "outputId": "ebb295f6-f794-4f91-a17c-dcd93f58eb10",
        "colab": {
          "base_uri": "https://localhost:8080/",
          "height": 0
        }
      },
      "outputs": [
        {
          "output_type": "execute_result",
          "data": {
            "text/plain": [
              "<Axes: xlabel='rango'>"
            ]
          },
          "metadata": {},
          "execution_count": 71
        },
        {
          "output_type": "display_data",
          "data": {
            "text/plain": [
              "<Figure size 640x480 with 1 Axes>"
            ],
            "image/png": "[encoded data removed]"
          },
          "metadata": {}
        }
      ],
      "source": [
        "lS.plot.bar( x= 'rango', y = 'densidad')"
      ],
      "id": "59e96c75-c8d0-403d-b86a-4dca78ca5543"
    },
    {
      "cell_type": "markdown",
      "metadata": {
        "id": "53314be8-78ce-4578-8eb8-309bcb678348"
      },
      "source": [
        "# 5. Probabilidad Frecuentista\n",
        "\n",
        "Tenemos la hipótesis de que el espacio muestral es un conjunto finito, y podemos definir la probabilidad asociada a un evento $A$:\n",
        "\n",
        "$$ f_n(A) = \\frac{n(A)}{n}, $$\n",
        "donde $n(A)$ denota al número de veces que ocurre $A$, y $n$ es el número de veces en que se realiza el experimento."
      ],
      "id": "53314be8-78ce-4578-8eb8-309bcb678348"
    },
    {
      "cell_type": "code",
      "execution_count": 80,
      "metadata": {
        "id": "876c24d9-eec7-4f71-a3fe-6f7f0445250e"
      },
      "outputs": [],
      "source": [
        "import random"
      ],
      "id": "876c24d9-eec7-4f71-a3fe-6f7f0445250e"
    },
    {
      "cell_type": "markdown",
      "metadata": {
        "id": "7c4479f8-524f-45f6-9042-350276164d19"
      },
      "source": [
        "Se tiene el lanzamiento de monedas injustas (volados)\n"
      ],
      "id": "7c4479f8-524f-45f6-9042-350276164d19"
    },
    {
      "cell_type": "code",
      "execution_count": 81,
      "metadata": {
        "id": "18496349-6d9d-4d77-8e00-fdcd7c15b4ed"
      },
      "outputs": [],
      "source": [
        "def volado(p):\n",
        "    return 'sol' if random.random() < p else 'aguila'"
      ],
      "id": "18496349-6d9d-4d77-8e00-fdcd7c15b4ed"
    },
    {
      "cell_type": "code",
      "execution_count": 82,
      "metadata": {
        "id": "efbfdacd-cf5e-4705-a435-7c4e146c4461",
        "outputId": "a4357b79-5a0b-494f-d767-bb80fb9f4ea9",
        "colab": {
          "base_uri": "https://localhost:8080/",
          "height": 36
        }
      },
      "outputs": [
        {
          "output_type": "execute_result",
          "data": {
            "text/plain": [
              "'aguila'"
            ],
            "application/vnd.google.colaboratory.intrinsic+json": {
              "type": "string"
            }
          },
          "metadata": {},
          "execution_count": 82
        }
      ],
      "source": [
        "volado(0.4)"
      ],
      "id": "efbfdacd-cf5e-4705-a435-7c4e146c4461"
    },
    {
      "cell_type": "code",
      "execution_count": 83,
      "metadata": {
        "id": "71a1943b-1216-4f05-925e-2ba415fd5016",
        "outputId": "13f0fe33-78b8-43e0-ddc1-dacdff94cfa6",
        "colab": {
          "base_uri": "https://localhost:8080/"
        }
      },
      "outputs": [
        {
          "output_type": "execute_result",
          "data": {
            "text/plain": [
              "['aguila',\n",
              " 'aguila',\n",
              " 'sol',\n",
              " 'aguila',\n",
              " 'sol',\n",
              " 'aguila',\n",
              " 'aguila',\n",
              " 'aguila',\n",
              " 'sol',\n",
              " 'sol']"
            ]
          },
          "metadata": {},
          "execution_count": 83
        }
      ],
      "source": [
        "a = [volado(0.4) for i in range(10)]\n",
        "a"
      ],
      "id": "71a1943b-1216-4f05-925e-2ba415fd5016"
    },
    {
      "cell_type": "code",
      "execution_count": 84,
      "metadata": {
        "id": "d4bbf74a-a3f5-4c05-ab82-6fa4098aeb2a",
        "outputId": "e42686ef-cdb1-4a32-d98e-000996d52a23",
        "colab": {
          "base_uri": "https://localhost:8080/"
        }
      },
      "outputs": [
        {
          "output_type": "execute_result",
          "data": {
            "text/plain": [
              "4"
            ]
          },
          "metadata": {},
          "execution_count": 84
        }
      ],
      "source": [
        "a.count(\"sol\")"
      ],
      "id": "d4bbf74a-a3f5-4c05-ab82-6fa4098aeb2a"
    },
    {
      "cell_type": "code",
      "execution_count": 85,
      "metadata": {
        "id": "a341fbfe-9ee2-4ece-831a-7bc6f0e70400"
      },
      "outputs": [],
      "source": [
        "resultados = [] # lista vacia"
      ],
      "id": "a341fbfe-9ee2-4ece-831a-7bc6f0e70400"
    },
    {
      "cell_type": "code",
      "execution_count": 86,
      "metadata": {
        "id": "120bdf06-7f9a-4b86-b541-488b3cea9e55",
        "outputId": "ef047995-d333-4507-eccc-d3918e07a9c9",
        "colab": {
          "base_uri": "https://localhost:8080/"
        }
      },
      "outputs": [
        {
          "output_type": "execute_result",
          "data": {
            "text/plain": [
              "['aguila',\n",
              " 'sol',\n",
              " 'aguila',\n",
              " 'aguila',\n",
              " 'aguila',\n",
              " 'aguila',\n",
              " 'aguila',\n",
              " 'sol',\n",
              " 'aguila',\n",
              " 'aguila']"
            ]
          },
          "metadata": {},
          "execution_count": 86
        }
      ],
      "source": [
        "for i in range(10):\n",
        "    resultado = volado(0.4)\n",
        "    resultados.append(resultado)\n",
        "resultados"
      ],
      "id": "120bdf06-7f9a-4b86-b541-488b3cea9e55"
    },
    {
      "cell_type": "code",
      "execution_count": 87,
      "metadata": {
        "id": "29e2a321-e534-46c2-b726-63a62716eed2",
        "outputId": "435773c0-aa45-4227-cebd-32908b105226",
        "colab": {
          "base_uri": "https://localhost:8080/"
        }
      },
      "outputs": [
        {
          "output_type": "stream",
          "name": "stdout",
          "text": [
            "Probabiliad 0.630\n"
          ]
        }
      ],
      "source": [
        "# Vamos a simular nuestra probabilidad frecuentista\n",
        "p = [] #Lista para almacernar las probabilidades\n",
        "\n",
        "for i in range(1000): #Simula 1000 experimentos\n",
        "    N = 1000 # numero de lanzamientos\n",
        "    resultados = []\n",
        "\n",
        "    for i in range(N):\n",
        "        resultado = volado(0.63)\n",
        "        resultados.append(resultado)\n",
        "\n",
        "    n_soles = resultados.count(\"sol\") # cuenta en número de soles\n",
        "    p_soles = n_soles / N #calcula la proporción\n",
        "\n",
        "    p.append(p_soles)\n",
        "\n",
        "# Probabilidad promedio\n",
        "p_soles_prom = sum(p) / 1000\n",
        "\n",
        "print(\"Probabiliad {:.3f}\".format(p_soles_prom))"
      ],
      "id": "29e2a321-e534-46c2-b726-63a62716eed2"
    },
    {
      "cell_type": "markdown",
      "source": [
        "# 6. Ejercicios del capítulo"
      ],
      "metadata": {
        "id": "me0-zKv4f-H_"
      },
      "id": "me0-zKv4f-H_"
    },
    {
      "cell_type": "markdown",
      "source": [
        "**EJEMPLO:** Sea el experimento de lanzar una moneda 3 veces, de manera independiente (es decir, el $i$-ésimo lanzamiento no me afecta al $i+1$ lanzamiento). El espacio muestral de este experimento es:\n",
        "\n",
        "$$ \\Omega = \\{A,S\\} \\times \\{A,S\\} \\times \\{A,S\\} = \\{A,S\\}^3 $$\n",
        "\n",
        "y tenemos que $\\#\\Omega = 2^3$.\n",
        "\n",
        "Sean los eventos:\n",
        "* $A$: todos los resultados son águila\n",
        "* $S$: todos los resultados son soles\n",
        "* $E$: por lo menos un resultado es sol\n",
        "\n",
        "Calcular las probabilidades de estos eventos:\n",
        "\n",
        "**Solución** Vamos a descomponer mi conjunto $A$ de la siguiente manera:\n",
        "$$A = A_1 \\cap A_2 \\cap A_3 $$\n",
        "donde $A_1$: caé águila en el $i$-ésimo resultado."
      ],
      "metadata": {
        "id": "c1Sw-QDPgWni"
      },
      "id": "c1Sw-QDPgWni"
    },
    {
      "cell_type": "code",
      "execution_count": 88,
      "metadata": {
        "id": "48a147b1-0d9c-4577-9ee4-6363ddd4ca10",
        "outputId": "77d31611-84e7-4057-bf3c-6a0529497433",
        "colab": {
          "base_uri": "https://localhost:8080/"
        }
      },
      "outputs": [
        {
          "output_type": "execute_result",
          "data": {
            "text/plain": [
              "{('A', 'A', 'A'),\n",
              " ('A', 'A', 'S'),\n",
              " ('A', 'S', 'A'),\n",
              " ('A', 'S', 'S'),\n",
              " ('S', 'A', 'A'),\n",
              " ('S', 'A', 'S'),\n",
              " ('S', 'S', 'A'),\n",
              " ('S', 'S', 'S')}"
            ]
          },
          "metadata": {},
          "execution_count": 88
        }
      ],
      "source": [
        "# Vamos a crear el espacio muestral\n",
        "import itertools #importamos el modulo\n",
        "from itertools import product\n",
        "\n",
        "Omega = set(product({\"A\",\"S\"},repeat = 3))\n",
        "Omega"
      ],
      "id": "48a147b1-0d9c-4577-9ee4-6363ddd4ca10"
    },
    {
      "cell_type": "code",
      "execution_count": 89,
      "metadata": {
        "id": "ee46c430-9020-4014-bd48-9707243d0c3f",
        "outputId": "8e68b9f0-a3d8-4468-882f-8e0f3875a3e6",
        "colab": {
          "base_uri": "https://localhost:8080/"
        }
      },
      "outputs": [
        {
          "output_type": "execute_result",
          "data": {
            "text/plain": [
              "8"
            ]
          },
          "metadata": {},
          "execution_count": 89
        }
      ],
      "source": [
        "len(Omega) #cardinalidad de Omega"
      ],
      "id": "ee46c430-9020-4014-bd48-9707243d0c3f"
    },
    {
      "cell_type": "code",
      "execution_count": 90,
      "metadata": {
        "id": "edf5e838-ab76-469b-b0f3-9fd3b5e0925b",
        "outputId": "990480c3-edc9-4745-c060-e326b2902116",
        "colab": {
          "base_uri": "https://localhost:8080/"
        }
      },
      "outputs": [
        {
          "output_type": "execute_result",
          "data": {
            "text/plain": [
              "{('A', 'A', 'A'), ('A', 'A', 'S'), ('A', 'S', 'A'), ('A', 'S', 'S')}"
            ]
          },
          "metadata": {},
          "execution_count": 90
        }
      ],
      "source": [
        "# Vamos a crear el evento A_1\n",
        "A_1 = {om for om in Omega if om[0] == \"A\"} # la primera coordenada es águila\n",
        "A_1"
      ],
      "id": "edf5e838-ab76-469b-b0f3-9fd3b5e0925b"
    },
    {
      "cell_type": "code",
      "execution_count": 91,
      "metadata": {
        "id": "c71ab39c-e261-4ec9-8655-404b873e1c31",
        "outputId": "1cebc26e-a9b3-465e-aa44-34404e158744",
        "colab": {
          "base_uri": "https://localhost:8080/"
        }
      },
      "outputs": [
        {
          "output_type": "execute_result",
          "data": {
            "text/plain": [
              "{('A', 'A', 'A'), ('A', 'A', 'S'), ('S', 'A', 'A'), ('S', 'A', 'S')}"
            ]
          },
          "metadata": {},
          "execution_count": 91
        }
      ],
      "source": [
        "# Vamos a crear el evento A_2\n",
        "A_2 = {om for om in Omega if om[1] == \"A\"} # la segunda coordenada es águila\n",
        "A_2"
      ],
      "id": "c71ab39c-e261-4ec9-8655-404b873e1c31"
    },
    {
      "cell_type": "code",
      "execution_count": 92,
      "metadata": {
        "id": "507c3372-1663-420e-8d8d-2009ed2650bb",
        "outputId": "1ec61ba3-9df8-4f14-d045-d5395ae5a294",
        "colab": {
          "base_uri": "https://localhost:8080/"
        }
      },
      "outputs": [
        {
          "output_type": "execute_result",
          "data": {
            "text/plain": [
              "{('A', 'A', 'A'), ('A', 'S', 'A'), ('S', 'A', 'A'), ('S', 'S', 'A')}"
            ]
          },
          "metadata": {},
          "execution_count": 92
        }
      ],
      "source": [
        "# Vamos a crear el evento A_3\n",
        "A_3 = {om for om in Omega if om[2] == \"A\"} # la tercera coordenada es águila\n",
        "A_3"
      ],
      "id": "507c3372-1663-420e-8d8d-2009ed2650bb"
    },
    {
      "cell_type": "code",
      "execution_count": 93,
      "metadata": {
        "id": "590750a8-4d53-47f1-bb0d-24be0b47742e",
        "outputId": "a8c49568-d340-4cc6-fa55-a7768b3c0dd9",
        "colab": {
          "base_uri": "https://localhost:8080/"
        }
      },
      "outputs": [
        {
          "output_type": "execute_result",
          "data": {
            "text/plain": [
              "{('A', 'A', 'A')}"
            ]
          },
          "metadata": {},
          "execution_count": 93
        }
      ],
      "source": [
        "# Vamos a crear el evento A\n",
        "A = A_1.intersection(A_2.intersection(A_3))\n",
        "A"
      ],
      "id": "590750a8-4d53-47f1-bb0d-24be0b47742e"
    },
    {
      "cell_type": "code",
      "execution_count": 94,
      "metadata": {
        "id": "58404e7f-9f82-4ed5-b9c3-3a11bf83fbbc",
        "outputId": "72a74441-5266-4260-b545-3a9bd7cda257",
        "colab": {
          "base_uri": "https://localhost:8080/"
        }
      },
      "outputs": [
        {
          "output_type": "execute_result",
          "data": {
            "text/plain": [
              "1"
            ]
          },
          "metadata": {},
          "execution_count": 94
        }
      ],
      "source": [
        "len(A)"
      ],
      "id": "58404e7f-9f82-4ed5-b9c3-3a11bf83fbbc"
    },
    {
      "cell_type": "code",
      "execution_count": 95,
      "metadata": {
        "id": "a77de0c1-aad6-4aec-bea5-39f547717812",
        "outputId": "c63b873b-a48f-432f-d40c-d42b689040bd",
        "colab": {
          "base_uri": "https://localhost:8080/"
        }
      },
      "outputs": [
        {
          "output_type": "execute_result",
          "data": {
            "text/plain": [
              "0.125"
            ]
          },
          "metadata": {},
          "execution_count": 95
        }
      ],
      "source": [
        "# Vamos a calcular la probabilidad de A\n",
        "P_A = len(A) / len(Omega)\n",
        "P_A"
      ],
      "id": "a77de0c1-aad6-4aec-bea5-39f547717812"
    },
    {
      "cell_type": "markdown",
      "metadata": {
        "id": "af4dcd99-7a58-49d2-9bf7-9fb288fe8f46"
      },
      "source": [
        "Expresar resultado en fracción:"
      ],
      "id": "af4dcd99-7a58-49d2-9bf7-9fb288fe8f46"
    },
    {
      "cell_type": "code",
      "execution_count": 96,
      "metadata": {
        "id": "f2a5ea4b-31a5-41c8-a449-b821c74986ad"
      },
      "outputs": [],
      "source": [
        "from fractions import Fraction\n",
        "\n",
        "def p(E, Omega):\n",
        "    p = Fraction(len(E), len(Omega))\n",
        "    return p"
      ],
      "id": "f2a5ea4b-31a5-41c8-a449-b821c74986ad"
    },
    {
      "cell_type": "code",
      "execution_count": 97,
      "metadata": {
        "id": "2bd0aeaa-6893-4c04-9c2a-9dc892710d9a",
        "outputId": "94b1f471-dc24-4ef5-8fcf-22097413f443",
        "colab": {
          "base_uri": "https://localhost:8080/"
        }
      },
      "outputs": [
        {
          "output_type": "execute_result",
          "data": {
            "text/plain": [
              "Fraction(1, 8)"
            ]
          },
          "metadata": {},
          "execution_count": 97
        }
      ],
      "source": [
        "prob = p(A, Omega)\n",
        "prob"
      ],
      "id": "2bd0aeaa-6893-4c04-9c2a-9dc892710d9a"
    },
    {
      "cell_type": "markdown",
      "metadata": {
        "id": "6c75d53d"
      },
      "source": [
        "Ahora calculemos el evento $S$: Todos los resultados son soles"
      ],
      "id": "6c75d53d"
    },
    {
      "cell_type": "code",
      "execution_count": 98,
      "metadata": {
        "id": "71ca4bb9-1d36-4fec-8403-e6e206de46be",
        "outputId": "5299469a-6e7a-44ca-97b6-7eaa9c9b2344",
        "colab": {
          "base_uri": "https://localhost:8080/"
        }
      },
      "outputs": [
        {
          "output_type": "execute_result",
          "data": {
            "text/plain": [
              "{('S', 'A', 'A'), ('S', 'A', 'S'), ('S', 'S', 'A'), ('S', 'S', 'S')}"
            ]
          },
          "metadata": {},
          "execution_count": 98
        }
      ],
      "source": [
        "# Vamos a crear el evento S_1\n",
        "S_1 = {om for om in Omega if om[0] == \"S\"} # la primera coordenada es sol\n",
        "S_1"
      ],
      "id": "71ca4bb9-1d36-4fec-8403-e6e206de46be"
    },
    {
      "cell_type": "code",
      "execution_count": 99,
      "metadata": {
        "jupyter": {
          "source_hidden": true
        },
        "id": "ac83adc6-6fe4-416a-ac37-2290942ea7ee",
        "outputId": "b3709c51-f4a2-4695-c747-45455db9a883",
        "colab": {
          "base_uri": "https://localhost:8080/"
        }
      },
      "outputs": [
        {
          "output_type": "execute_result",
          "data": {
            "text/plain": [
              "{('A', 'S', 'A'), ('A', 'S', 'S'), ('S', 'S', 'A'), ('S', 'S', 'S')}"
            ]
          },
          "metadata": {},
          "execution_count": 99
        }
      ],
      "source": [
        "# Vamos a crear el evento S_2\n",
        "S_2 = {om for om in Omega if om[1] == \"S\"} # la segunda coordenada es sol\n",
        "S_2"
      ],
      "id": "ac83adc6-6fe4-416a-ac37-2290942ea7ee"
    },
    {
      "cell_type": "code",
      "execution_count": 100,
      "metadata": {
        "id": "ca72b9f8-fd74-4f96-927a-679e4bf2e86a",
        "outputId": "caf00627-ef7b-4adc-8e5a-5d14ccac917c",
        "colab": {
          "base_uri": "https://localhost:8080/"
        }
      },
      "outputs": [
        {
          "output_type": "execute_result",
          "data": {
            "text/plain": [
              "{('A', 'A', 'S'), ('A', 'S', 'S'), ('S', 'A', 'S'), ('S', 'S', 'S')}"
            ]
          },
          "metadata": {},
          "execution_count": 100
        }
      ],
      "source": [
        "# Vamos a crear el evento S_3\n",
        "S_3 = {om for om in Omega if om[2] == \"S\"} # la tercera coordenada es sol\n",
        "S_3"
      ],
      "id": "ca72b9f8-fd74-4f96-927a-679e4bf2e86a"
    },
    {
      "cell_type": "code",
      "execution_count": 101,
      "metadata": {
        "id": "46f633ef-7b2b-40ac-a332-9e9ed71109f2",
        "outputId": "d4f4bb85-70b3-4604-a362-19ac03b35f33",
        "colab": {
          "base_uri": "https://localhost:8080/"
        }
      },
      "outputs": [
        {
          "output_type": "execute_result",
          "data": {
            "text/plain": [
              "{('S', 'S', 'S')}"
            ]
          },
          "metadata": {},
          "execution_count": 101
        }
      ],
      "source": [
        "# Vamos a crear el evento S\n",
        "S = S_1.intersection(S_2.intersection(S_3))\n",
        "S"
      ],
      "id": "46f633ef-7b2b-40ac-a332-9e9ed71109f2"
    },
    {
      "cell_type": "code",
      "execution_count": 102,
      "metadata": {
        "id": "d54f7e3f-4088-4d6d-9893-006714e0e61a",
        "outputId": "51160268-267c-4fca-cd41-14c30746547a",
        "colab": {
          "base_uri": "https://localhost:8080/"
        }
      },
      "outputs": [
        {
          "output_type": "execute_result",
          "data": {
            "text/plain": [
              "1"
            ]
          },
          "metadata": {},
          "execution_count": 102
        }
      ],
      "source": [
        "len(S)"
      ],
      "id": "d54f7e3f-4088-4d6d-9893-006714e0e61a"
    },
    {
      "cell_type": "code",
      "execution_count": 103,
      "metadata": {
        "id": "1d34eb0a-a6d5-451d-a699-aa7c621799c3",
        "outputId": "6775f724-1f86-4e0b-c002-223dd90ae7f2",
        "colab": {
          "base_uri": "https://localhost:8080/"
        }
      },
      "outputs": [
        {
          "output_type": "execute_result",
          "data": {
            "text/plain": [
              "0.125"
            ]
          },
          "metadata": {},
          "execution_count": 103
        }
      ],
      "source": [
        "# Vamos a calcular la probabilidad de S\n",
        "P_S = len(S) / len(Omega)\n",
        "P_S"
      ],
      "id": "1d34eb0a-a6d5-451d-a699-aa7c621799c3"
    },
    {
      "cell_type": "markdown",
      "metadata": {
        "id": "fb1b9f88"
      },
      "source": [
        "Finalmente calculemos el evento $E$: Por lo menos un resultado es sol"
      ],
      "id": "fb1b9f88"
    },
    {
      "cell_type": "code",
      "execution_count": 104,
      "metadata": {
        "id": "17cbc9c4-0f45-4890-a346-38c4aeeb811d",
        "outputId": "3719437b-e967-420a-f89d-79791a94c7ba",
        "colab": {
          "base_uri": "https://localhost:8080/"
        }
      },
      "outputs": [
        {
          "output_type": "execute_result",
          "data": {
            "text/plain": [
              "{('A', 'A', 'S'),\n",
              " ('A', 'S', 'A'),\n",
              " ('A', 'S', 'S'),\n",
              " ('S', 'A', 'A'),\n",
              " ('S', 'A', 'S'),\n",
              " ('S', 'S', 'A'),\n",
              " ('S', 'S', 'S')}"
            ]
          },
          "metadata": {},
          "execution_count": 104
        }
      ],
      "source": [
        "E_1 = {om for om in Omega if om[0] == \"S\"} #La primer cooordenada es sol\n",
        "E_2 = {om for om in Omega if om[1] == \"S\"} #La segunda cooordenada es sol\n",
        "E_3 = {om for om in Omega if om[2] == \"S\"} #La tercera cooordenada es sol\n",
        "\n",
        "E = E_1.union(E_2.union(E_3)) #Al menos un resultado es sol\n",
        "E"
      ],
      "id": "17cbc9c4-0f45-4890-a346-38c4aeeb811d"
    },
    {
      "cell_type": "code",
      "execution_count": 105,
      "metadata": {
        "id": "f557008c-88d7-4f05-8994-a24bd91a30e4",
        "outputId": "3afb8b08-c813-41ec-bd8d-e8c8ec02239f",
        "colab": {
          "base_uri": "https://localhost:8080/"
        }
      },
      "outputs": [
        {
          "output_type": "execute_result",
          "data": {
            "text/plain": [
              "7"
            ]
          },
          "metadata": {},
          "execution_count": 105
        }
      ],
      "source": [
        "len(E)"
      ],
      "id": "f557008c-88d7-4f05-8994-a24bd91a30e4"
    },
    {
      "cell_type": "code",
      "execution_count": 106,
      "metadata": {
        "id": "b0834197-d6c1-45ff-9e1e-aa2aebb326f3",
        "outputId": "e1f4126a-e555-4ae2-9a4f-673bc7dd22a0",
        "colab": {
          "base_uri": "https://localhost:8080/"
        }
      },
      "outputs": [
        {
          "output_type": "execute_result",
          "data": {
            "text/plain": [
              "0.875"
            ]
          },
          "metadata": {},
          "execution_count": 106
        }
      ],
      "source": [
        "# Vamos a calcular la probabilidad de E\n",
        "P_E = len(E) / len(Omega)\n",
        "P_E"
      ],
      "id": "b0834197-d6c1-45ff-9e1e-aa2aebb326f3"
    }
  ],
  "metadata": {
    "kernelspec": {
      "display_name": "Python [conda env:base] *",
      "language": "python",
      "name": "conda-base-py"
    },
    "language_info": {
      "codemirror_mode": {
        "name": "ipython",
        "version": 3
      },
      "file_extension": ".py",
      "mimetype": "text/x-python",
      "name": "python",
      "nbconvert_exporter": "python",
      "pygments_lexer": "ipython3",
      "version": "3.12.7"
    },
    "colab": {
      "provenance": []
    }
  },
  "nbformat": 4,
  "nbformat_minor": 5
}